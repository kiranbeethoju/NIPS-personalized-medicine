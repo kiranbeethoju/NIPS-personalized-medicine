{
 "cells": [
  {
   "cell_type": "code",
   "execution_count": 1,
   "metadata": {
    "collapsed": true
   },
   "outputs": [],
   "source": [
    "import os\n",
    "import time\n",
    "import pandas as pd\n",
    "import numpy as np\n",
    "from sklearn.decomposition import TruncatedSVD\n",
    "from sklearn.preprocessing import LabelEncoder\n",
    "from sklearn.feature_extraction.text import TfidfVectorizer"
   ]
  },
  {
   "cell_type": "code",
   "execution_count": 2,
   "metadata": {
    "collapsed": true
   },
   "outputs": [],
   "source": [
    "data_directory = '/Users/Reynard/dropbox/Data/kaggle/Personalized Medicine'"
   ]
  },
  {
   "cell_type": "code",
   "execution_count": 3,
   "metadata": {
    "collapsed": true
   },
   "outputs": [],
   "source": [
    "train_variants = pd.read_csv(data_directory + \"/input/training_variants\")\n",
    "test_variants = pd.read_csv(data_directory + \"/input/test_variants\")\n",
    "train_text = pd.read_csv(data_directory + \"/input/training_text\", sep=\"\\|\\|\", engine='python', header=None, skiprows=1, names=[\"ID\",\"Text\"])\n",
    "test_text = pd.read_csv(data_directory + \"/input/test_text\", sep=\"\\|\\|\", engine='python', header=None, skiprows=1, names=[\"ID\",\"Text\"])"
   ]
  },
  {
   "cell_type": "code",
   "execution_count": 4,
   "metadata": {
    "collapsed": true
   },
   "outputs": [],
   "source": [
    "train = pd.merge(train_variants, train_text, how='left', on='ID')\n",
    "y_train = train['Class'].values\n",
    "X_train = train.drop('Class', axis=1)"
   ]
  },
  {
   "cell_type": "code",
   "execution_count": 5,
   "metadata": {
    "collapsed": true
   },
   "outputs": [],
   "source": [
    "X_test = pd.merge(test_variants, test_text, how='left', on='ID')\n",
    "test_index = X_test['ID'].values"
   ]
  },
  {
   "cell_type": "code",
   "execution_count": 6,
   "metadata": {},
   "outputs": [
    {
     "data": {
      "text/plain": [
       "0    Cyclin-dependent kinases (CDKs) regulate a var...\n",
       "1     Abstract Background  Non-small cell lung canc...\n",
       "2     Abstract Background  Non-small cell lung canc...\n",
       "3    Recent evidence has demonstrated that acquired...\n",
       "4    Oncogenic mutations in the monomeric Casitas B...\n",
       "Name: Text, dtype: object"
      ]
     },
     "execution_count": 6,
     "metadata": {},
     "output_type": "execute_result"
    }
   ],
   "source": [
    "sentences_train = X_train['Text']\n",
    "sentences_train.shape\n",
    "sentences_train.head()"
   ]
  },
  {
   "cell_type": "code",
   "execution_count": 7,
   "metadata": {},
   "outputs": [
    {
     "data": {
      "text/plain": [
       "0    2. This mutation resulted in a myeloproliferat...\n",
       "1     Abstract The Large Tumor Suppressor 1 (LATS1)...\n",
       "2    Vascular endothelial growth factor receptor (V...\n",
       "3    Inflammatory myofibroblastic tumor (IMT) is a ...\n",
       "4     Abstract Retinoblastoma is a pediatric retina...\n",
       "Name: Text, dtype: object"
      ]
     },
     "execution_count": 7,
     "metadata": {},
     "output_type": "execute_result"
    }
   ],
   "source": [
    "sentences_test = X_test['Text']\n",
    "sentences_test.shape\n",
    "sentences_test.head()"
   ]
  },
  {
   "cell_type": "code",
   "execution_count": 8,
   "metadata": {
    "collapsed": true
   },
   "outputs": [],
   "source": [
    "tfidf = TfidfVectorizer(stop_words = 'english')\n",
    "tfidf_train = tfidf.fit_transform(sentences_train)\n",
    "tfidf_test = tfidf.transform(sentences_test)"
   ]
  },
  {
   "cell_type": "code",
   "execution_count": 9,
   "metadata": {
    "collapsed": true
   },
   "outputs": [],
   "source": [
    "svd = TruncatedSVD(400, algorithm='arpack')\n",
    "svd_train = svd.fit_transform(tfidf_train)\n",
    "svd_test = svd.transform(tfidf_test)"
   ]
  },
  {
   "cell_type": "code",
   "execution_count": 10,
   "metadata": {},
   "outputs": [
    {
     "name": "stderr",
     "output_type": "stream",
     "text": [
      "Using TensorFlow backend.\n"
     ]
    }
   ],
   "source": [
    "from keras.models import Sequential\n",
    "from keras.layers import Dense\n",
    "from keras.wrappers.scikit_learn import KerasClassifier\n",
    "from keras.utils import np_utils\n",
    "from keras.layers import Dropout\n",
    "from keras.utils import np_utils"
   ]
  },
  {
   "cell_type": "code",
   "execution_count": 11,
   "metadata": {},
   "outputs": [
    {
     "data": {
      "text/plain": [
       "(3321, 400)"
      ]
     },
     "execution_count": 11,
     "metadata": {},
     "output_type": "execute_result"
    }
   ],
   "source": [
    "svd_train.shape"
   ]
  },
  {
   "cell_type": "code",
   "execution_count": 12,
   "metadata": {
    "collapsed": true
   },
   "outputs": [],
   "source": [
    "input_shape = svd_train.shape[1]\n",
    "output_shape = len(train['Class'].unique())\n",
    "batch_n = 32"
   ]
  },
  {
   "cell_type": "code",
   "execution_count": 13,
   "metadata": {
    "collapsed": true
   },
   "outputs": [],
   "source": [
    "def model_hypothesis():\n",
    "    model = Sequential()\n",
    "    model.add(Dense(512, input_dim=input_shape, kernel_initializer='normal', activation='relu'))\n",
    "    model.add(Dropout(0.5))\n",
    "    model.add(Dense(256, kernel_initializer='normal', activation='relu'))\n",
    "    model.add(Dropout(0.5))\n",
    "    model.add(Dense(128, kernel_initializer='normal', activation='relu'))\n",
    "    model.add(Dropout(0.5))\n",
    "    model.add(Dense(64, kernel_initializer='normal', activation='relu'))\n",
    "    model.add(Dropout(0.5))\n",
    "    model.add(Dense(128, kernel_initializer='normal', activation='relu'))\n",
    "    model.add(Dropout(0.5))\n",
    "    model.add(Dense(256, kernel_initializer='normal', activation='relu'))\n",
    "    model.add(Dropout(0.5))\n",
    "    model.add(Dense(512, kernel_initializer='normal', activation='relu'))\n",
    "    model.add(Dropout(0.5))\n",
    "    model.add(Dense(output_shape, kernel_initializer='normal', activation=\"softmax\"))\n",
    "    model.compile(loss='categorical_crossentropy', optimizer='adam', metrics=['accuracy'])\n",
    "    return model"
   ]
  },
  {
   "cell_type": "code",
   "execution_count": 14,
   "metadata": {
    "collapsed": true
   },
   "outputs": [],
   "source": [
    "encoder = LabelEncoder()\n",
    "encoder.fit(y_train)\n",
    "y_enc = encoder.transform(y_train)"
   ]
  },
  {
   "cell_type": "code",
   "execution_count": 15,
   "metadata": {
    "collapsed": true
   },
   "outputs": [],
   "source": [
    "y_ind = np_utils.to_categorical(y_enc)"
   ]
  },
  {
   "cell_type": "code",
   "execution_count": 16,
   "metadata": {},
   "outputs": [
    {
     "name": "stdout",
     "output_type": "stream",
     "text": [
      "Train on 3154 samples, validate on 167 samples\n",
      "Epoch 1/100\n",
      "3154/3154 [==============================] - 1s - loss: 1.8897 - acc: 0.2796 - val_loss: 1.7134 - val_acc: 0.4012\n",
      "Epoch 2/100\n",
      "3154/3154 [==============================] - 1s - loss: 1.7063 - acc: 0.3253 - val_loss: 1.6685 - val_acc: 0.3054\n",
      "Epoch 3/100\n",
      "3154/3154 [==============================] - 1s - loss: 1.5125 - acc: 0.4103 - val_loss: 1.6483 - val_acc: 0.3832\n",
      "Epoch 4/100\n",
      "3154/3154 [==============================] - 1s - loss: 1.4075 - acc: 0.4620 - val_loss: 1.6701 - val_acc: 0.3892\n",
      "Epoch 5/100\n",
      "3154/3154 [==============================] - 1s - loss: 1.3014 - acc: 0.5016 - val_loss: 1.7008 - val_acc: 0.4371\n",
      "Epoch 6/100\n",
      "3154/3154 [==============================] - 1s - loss: 1.2689 - acc: 0.5060 - val_loss: 1.7509 - val_acc: 0.3832\n",
      "Epoch 7/100\n",
      "3154/3154 [==============================] - 1s - loss: 1.2178 - acc: 0.5289 - val_loss: 1.7578 - val_acc: 0.4311\n",
      "Epoch 8/100\n",
      "3154/3154 [==============================] - 1s - loss: 1.1699 - acc: 0.5577 - val_loss: 1.8145 - val_acc: 0.3832\n",
      "Epoch 9/100\n",
      "3154/3154 [==============================] - 0s - loss: 1.1653 - acc: 0.5542 - val_loss: 1.7212 - val_acc: 0.4731\n",
      "Epoch 10/100\n",
      "3154/3154 [==============================] - 0s - loss: 1.1474 - acc: 0.5713 - val_loss: 1.8261 - val_acc: 0.4311\n",
      "Epoch 11/100\n",
      "3154/3154 [==============================] - 0s - loss: 1.1202 - acc: 0.5761 - val_loss: 1.8353 - val_acc: 0.4132\n",
      "Epoch 12/100\n",
      "3154/3154 [==============================] - 0s - loss: 1.1119 - acc: 0.5793 - val_loss: 1.7279 - val_acc: 0.3892\n",
      "Epoch 13/100\n",
      "3154/3154 [==============================] - 0s - loss: 1.1030 - acc: 0.5828 - val_loss: 1.8340 - val_acc: 0.4012\n",
      "Epoch 14/100\n",
      "3154/3154 [==============================] - 0s - loss: 1.0837 - acc: 0.5926 - val_loss: 1.9741 - val_acc: 0.3533\n",
      "Epoch 15/100\n",
      "3154/3154 [==============================] - 0s - loss: 1.0362 - acc: 0.5964 - val_loss: 1.9256 - val_acc: 0.4012\n",
      "Epoch 16/100\n",
      "3154/3154 [==============================] - 0s - loss: 1.0526 - acc: 0.5980 - val_loss: 2.0579 - val_acc: 0.4012\n",
      "Epoch 17/100\n",
      "3154/3154 [==============================] - 0s - loss: 1.0247 - acc: 0.6049 - val_loss: 1.9631 - val_acc: 0.3473\n",
      "Epoch 18/100\n",
      "3154/3154 [==============================] - 0s - loss: 1.0220 - acc: 0.6122 - val_loss: 1.9819 - val_acc: 0.3293\n",
      "Epoch 19/100\n",
      "3154/3154 [==============================] - 0s - loss: 1.0380 - acc: 0.6046 - val_loss: 1.9241 - val_acc: 0.3353\n",
      "Epoch 20/100\n",
      "3154/3154 [==============================] - 1s - loss: 1.0173 - acc: 0.6122 - val_loss: 1.8724 - val_acc: 0.3892\n",
      "Epoch 21/100\n",
      "3154/3154 [==============================] - 0s - loss: 1.0175 - acc: 0.6094 - val_loss: 1.8574 - val_acc: 0.3653\n",
      "Epoch 22/100\n",
      "3154/3154 [==============================] - 0s - loss: 0.9927 - acc: 0.6135 - val_loss: 1.9383 - val_acc: 0.3533\n",
      "Epoch 23/100\n",
      "3154/3154 [==============================] - 0s - loss: 0.9807 - acc: 0.6195 - val_loss: 1.9745 - val_acc: 0.2814\n",
      "Epoch 24/100\n",
      "3154/3154 [==============================] - 0s - loss: 1.0005 - acc: 0.6176 - val_loss: 1.9615 - val_acc: 0.3832\n",
      "Epoch 25/100\n",
      "3154/3154 [==============================] - 0s - loss: 0.9913 - acc: 0.5999 - val_loss: 1.9908 - val_acc: 0.3114\n",
      "Epoch 26/100\n",
      "3154/3154 [==============================] - 0s - loss: 0.9743 - acc: 0.6367 - val_loss: 1.9560 - val_acc: 0.3713\n",
      "Epoch 27/100\n",
      "3154/3154 [==============================] - 0s - loss: 0.9685 - acc: 0.6249 - val_loss: 2.0116 - val_acc: 0.3832\n",
      "Epoch 28/100\n",
      "3154/3154 [==============================] - 1s - loss: 0.9556 - acc: 0.6237 - val_loss: 1.9782 - val_acc: 0.3713\n",
      "Epoch 29/100\n",
      "3154/3154 [==============================] - 0s - loss: 0.9412 - acc: 0.6278 - val_loss: 2.0275 - val_acc: 0.2814\n",
      "Epoch 30/100\n",
      "3154/3154 [==============================] - 0s - loss: 0.9418 - acc: 0.6271 - val_loss: 2.0108 - val_acc: 0.2994\n",
      "Epoch 31/100\n",
      "3154/3154 [==============================] - 0s - loss: 0.9443 - acc: 0.6287 - val_loss: 2.0323 - val_acc: 0.2395\n",
      "Epoch 32/100\n",
      "3154/3154 [==============================] - 0s - loss: 0.9225 - acc: 0.6424 - val_loss: 2.0653 - val_acc: 0.2515\n",
      "Epoch 33/100\n",
      "3154/3154 [==============================] - 0s - loss: 0.9081 - acc: 0.6382 - val_loss: 2.1336 - val_acc: 0.2874\n",
      "Epoch 34/100\n",
      "3154/3154 [==============================] - 1s - loss: 0.9263 - acc: 0.6382 - val_loss: 2.0201 - val_acc: 0.3174\n",
      "Epoch 35/100\n",
      "3154/3154 [==============================] - 0s - loss: 0.9147 - acc: 0.6544 - val_loss: 2.1025 - val_acc: 0.3473\n",
      "Epoch 36/100\n",
      "3154/3154 [==============================] - 0s - loss: 0.9050 - acc: 0.6490 - val_loss: 2.1079 - val_acc: 0.2874\n",
      "Epoch 37/100\n",
      "3154/3154 [==============================] - 0s - loss: 0.9125 - acc: 0.6512 - val_loss: 2.0488 - val_acc: 0.2754\n",
      "Epoch 38/100\n",
      "3154/3154 [==============================] - 1s - loss: 0.8949 - acc: 0.6554 - val_loss: 2.0676 - val_acc: 0.2695\n",
      "Epoch 39/100\n",
      "3154/3154 [==============================] - 1s - loss: 0.9049 - acc: 0.6614 - val_loss: 2.1058 - val_acc: 0.3114\n",
      "Epoch 40/100\n",
      "3154/3154 [==============================] - 0s - loss: 0.8985 - acc: 0.6592 - val_loss: 2.1247 - val_acc: 0.2156\n",
      "Epoch 41/100\n",
      "3154/3154 [==============================] - 1s - loss: 0.8817 - acc: 0.6627 - val_loss: 2.1002 - val_acc: 0.2695\n",
      "Epoch 42/100\n",
      "3154/3154 [==============================] - 1s - loss: 0.8771 - acc: 0.6703 - val_loss: 2.0686 - val_acc: 0.2814\n",
      "Epoch 43/100\n",
      "3154/3154 [==============================] - 1s - loss: 0.8754 - acc: 0.6696 - val_loss: 2.1199 - val_acc: 0.3772\n",
      "Epoch 44/100\n",
      "3154/3154 [==============================] - 1s - loss: 0.8831 - acc: 0.6696 - val_loss: 2.1308 - val_acc: 0.3054\n",
      "Epoch 45/100\n",
      "3154/3154 [==============================] - 0s - loss: 0.8533 - acc: 0.6807 - val_loss: 2.0364 - val_acc: 0.2635\n",
      "Epoch 46/100\n",
      "3154/3154 [==============================] - 0s - loss: 0.8544 - acc: 0.6779 - val_loss: 2.2142 - val_acc: 0.3114\n",
      "Epoch 47/100\n",
      "3154/3154 [==============================] - 0s - loss: 0.8464 - acc: 0.6766 - val_loss: 2.1432 - val_acc: 0.4012\n",
      "Epoch 48/100\n",
      "3154/3154 [==============================] - 0s - loss: 0.8565 - acc: 0.6807 - val_loss: 2.1135 - val_acc: 0.2994\n",
      "Epoch 49/100\n",
      "3154/3154 [==============================] - 0s - loss: 0.8437 - acc: 0.6810 - val_loss: 2.2700 - val_acc: 0.3174\n",
      "Epoch 50/100\n",
      "3154/3154 [==============================] - 1s - loss: 0.8159 - acc: 0.6899 - val_loss: 2.2646 - val_acc: 0.3473\n",
      "Epoch 51/100\n",
      "3154/3154 [==============================] - 0s - loss: 0.8285 - acc: 0.6918 - val_loss: 2.3080 - val_acc: 0.3593\n",
      "Epoch 52/100\n",
      "3154/3154 [==============================] - 1s - loss: 0.8230 - acc: 0.6864 - val_loss: 2.2639 - val_acc: 0.3772\n",
      "Epoch 53/100\n",
      "3154/3154 [==============================] - 0s - loss: 0.8365 - acc: 0.6918 - val_loss: 2.2473 - val_acc: 0.3353\n",
      "Epoch 54/100\n",
      "3154/3154 [==============================] - 0s - loss: 0.8107 - acc: 0.6886 - val_loss: 2.3996 - val_acc: 0.3593\n",
      "Epoch 55/100\n",
      "3154/3154 [==============================] - 0s - loss: 0.7975 - acc: 0.6915 - val_loss: 2.3003 - val_acc: 0.3293\n",
      "Epoch 56/100\n",
      "3154/3154 [==============================] - 0s - loss: 0.7984 - acc: 0.7026 - val_loss: 2.3365 - val_acc: 0.3413\n",
      "Epoch 57/100\n",
      "3154/3154 [==============================] - 0s - loss: 0.7942 - acc: 0.7099 - val_loss: 2.5059 - val_acc: 0.3832\n",
      "Epoch 58/100\n",
      "3154/3154 [==============================] - 0s - loss: 0.7796 - acc: 0.6997 - val_loss: 2.4451 - val_acc: 0.3114\n",
      "Epoch 59/100\n",
      "3154/3154 [==============================] - 0s - loss: 0.7813 - acc: 0.7191 - val_loss: 2.4094 - val_acc: 0.3413\n",
      "Epoch 60/100\n",
      "3154/3154 [==============================] - 0s - loss: 0.7661 - acc: 0.7124 - val_loss: 2.7156 - val_acc: 0.3653\n",
      "Epoch 61/100\n",
      "3154/3154 [==============================] - 0s - loss: 0.7688 - acc: 0.7042 - val_loss: 2.4064 - val_acc: 0.3353\n",
      "Epoch 62/100\n",
      "3154/3154 [==============================] - 1s - loss: 0.7808 - acc: 0.7083 - val_loss: 2.2872 - val_acc: 0.3653\n",
      "Epoch 63/100\n",
      "3154/3154 [==============================] - 1s - loss: 0.7791 - acc: 0.7159 - val_loss: 2.5642 - val_acc: 0.4012\n",
      "Epoch 64/100\n",
      "3154/3154 [==============================] - 1s - loss: 0.7582 - acc: 0.7137 - val_loss: 2.3954 - val_acc: 0.3533\n",
      "Epoch 65/100\n"
     ]
    },
    {
     "name": "stdout",
     "output_type": "stream",
     "text": [
      "3154/3154 [==============================] - 1s - loss: 0.7529 - acc: 0.7238 - val_loss: 2.2622 - val_acc: 0.3473\n",
      "Epoch 66/100\n",
      "3154/3154 [==============================] - 0s - loss: 0.7413 - acc: 0.7318 - val_loss: 2.4712 - val_acc: 0.3713\n",
      "Epoch 67/100\n",
      "3154/3154 [==============================] - 0s - loss: 0.7411 - acc: 0.7280 - val_loss: 2.3469 - val_acc: 0.3293\n",
      "Epoch 68/100\n",
      "3154/3154 [==============================] - 1s - loss: 0.7475 - acc: 0.7181 - val_loss: 2.3362 - val_acc: 0.3772\n",
      "Epoch 69/100\n",
      "3154/3154 [==============================] - 0s - loss: 0.7542 - acc: 0.7210 - val_loss: 2.4424 - val_acc: 0.3653\n",
      "Epoch 70/100\n",
      "3154/3154 [==============================] - 1s - loss: 0.7287 - acc: 0.7372 - val_loss: 2.3821 - val_acc: 0.3653\n",
      "Epoch 71/100\n",
      "3154/3154 [==============================] - 1s - loss: 0.7555 - acc: 0.7273 - val_loss: 2.4144 - val_acc: 0.3713\n",
      "Epoch 72/100\n",
      "3154/3154 [==============================] - 1s - loss: 0.7615 - acc: 0.7235 - val_loss: 2.4452 - val_acc: 0.3713\n",
      "Epoch 73/100\n",
      "3154/3154 [==============================] - 1s - loss: 0.7249 - acc: 0.7372 - val_loss: 2.4469 - val_acc: 0.3473\n",
      "Epoch 74/100\n",
      "3154/3154 [==============================] - 1s - loss: 0.7326 - acc: 0.7257 - val_loss: 2.6052 - val_acc: 0.3952\n",
      "Epoch 75/100\n",
      "3154/3154 [==============================] - 0s - loss: 0.7266 - acc: 0.7330 - val_loss: 2.4474 - val_acc: 0.3772\n",
      "Epoch 76/100\n",
      "3154/3154 [==============================] - 0s - loss: 0.7128 - acc: 0.7324 - val_loss: 2.4768 - val_acc: 0.3593\n",
      "Epoch 77/100\n",
      "3154/3154 [==============================] - 0s - loss: 0.7240 - acc: 0.7387 - val_loss: 2.6550 - val_acc: 0.3952\n",
      "Epoch 78/100\n",
      "3154/3154 [==============================] - 0s - loss: 0.7030 - acc: 0.7403 - val_loss: 2.6788 - val_acc: 0.3772\n",
      "Epoch 79/100\n",
      "3154/3154 [==============================] - 0s - loss: 0.7017 - acc: 0.7422 - val_loss: 2.6793 - val_acc: 0.3713\n",
      "Epoch 80/100\n",
      "3154/3154 [==============================] - 0s - loss: 0.7135 - acc: 0.7508 - val_loss: 2.6234 - val_acc: 0.3593\n",
      "Epoch 81/100\n",
      "3154/3154 [==============================] - 0s - loss: 0.7142 - acc: 0.7536 - val_loss: 2.4512 - val_acc: 0.3533\n",
      "Epoch 82/100\n",
      "3154/3154 [==============================] - 0s - loss: 0.7146 - acc: 0.7524 - val_loss: 2.5379 - val_acc: 0.3473\n",
      "Epoch 83/100\n",
      "3154/3154 [==============================] - 0s - loss: 0.7109 - acc: 0.7498 - val_loss: 2.6353 - val_acc: 0.3772\n",
      "Epoch 84/100\n",
      "3154/3154 [==============================] - 0s - loss: 0.7038 - acc: 0.7565 - val_loss: 2.7215 - val_acc: 0.3713\n",
      "Epoch 85/100\n",
      "3154/3154 [==============================] - 0s - loss: 0.6872 - acc: 0.7505 - val_loss: 2.7784 - val_acc: 0.3533\n",
      "Epoch 86/100\n",
      "3154/3154 [==============================] - 0s - loss: 0.6747 - acc: 0.7603 - val_loss: 2.7199 - val_acc: 0.3174\n",
      "Epoch 87/100\n",
      "3154/3154 [==============================] - 0s - loss: 0.6991 - acc: 0.7584 - val_loss: 2.6744 - val_acc: 0.3832\n",
      "Epoch 88/100\n",
      "3154/3154 [==============================] - 0s - loss: 0.6930 - acc: 0.7486 - val_loss: 2.7086 - val_acc: 0.3293\n",
      "Epoch 89/100\n",
      "3154/3154 [==============================] - 0s - loss: 0.6916 - acc: 0.7597 - val_loss: 2.6608 - val_acc: 0.3832\n",
      "Epoch 90/100\n",
      "3154/3154 [==============================] - 0s - loss: 0.6687 - acc: 0.7584 - val_loss: 2.8509 - val_acc: 0.4012\n",
      "Epoch 91/100\n",
      "3154/3154 [==============================] - 0s - loss: 0.6807 - acc: 0.7619 - val_loss: 2.7593 - val_acc: 0.3832\n",
      "Epoch 92/100\n",
      "3154/3154 [==============================] - 0s - loss: 0.6790 - acc: 0.7638 - val_loss: 2.5876 - val_acc: 0.3892\n",
      "Epoch 93/100\n",
      "3154/3154 [==============================] - 0s - loss: 0.6826 - acc: 0.7632 - val_loss: 2.5335 - val_acc: 0.3593\n",
      "Epoch 94/100\n",
      "3154/3154 [==============================] - 0s - loss: 0.7014 - acc: 0.7555 - val_loss: 2.5517 - val_acc: 0.3713\n",
      "Epoch 95/100\n",
      "3154/3154 [==============================] - 0s - loss: 0.6637 - acc: 0.7632 - val_loss: 2.9943 - val_acc: 0.3653\n",
      "Epoch 96/100\n",
      "3154/3154 [==============================] - 0s - loss: 0.6571 - acc: 0.7657 - val_loss: 3.1348 - val_acc: 0.3772\n",
      "Epoch 97/100\n",
      "3154/3154 [==============================] - 0s - loss: 0.6579 - acc: 0.7619 - val_loss: 2.8641 - val_acc: 0.3593\n",
      "Epoch 98/100\n",
      "3154/3154 [==============================] - 0s - loss: 0.6704 - acc: 0.7616 - val_loss: 2.5891 - val_acc: 0.3713\n",
      "Epoch 99/100\n",
      "3154/3154 [==============================] - 0s - loss: 0.6506 - acc: 0.7705 - val_loss: 2.9323 - val_acc: 0.3952\n",
      "Epoch 100/100\n",
      "3154/3154 [==============================] - 0s - loss: 0.6561 - acc: 0.7692 - val_loss: 2.7435 - val_acc: 0.3473\n"
     ]
    },
    {
     "data": {
      "text/plain": [
       "<keras.callbacks.History at 0x17b69e550>"
      ]
     },
     "execution_count": 16,
     "metadata": {},
     "output_type": "execute_result"
    }
   ],
   "source": [
    "estimator = KerasClassifier(build_fn=model_hypothesis, epochs=1000, batch_size=batch_n)\n",
    "estimator.fit(svd_train, y_ind, validation_split=0.05)"
   ]
  },
  {
   "cell_type": "code",
   "execution_count": 20,
   "metadata": {},
   "outputs": [],
   "source": [
    "from keras.utils import plot_model\n",
    "plot_model(model_hypothesis(), to_file='model_hypothesis1.png')"
   ]
  },
  {
   "cell_type": "code",
   "execution_count": 22,
   "metadata": {},
   "outputs": [
    {
     "data": {
      "image/svg+xml": [
       "<svg height=\"1140pt\" viewBox=\"0.00 0.00 182.24 1140.00\" width=\"182pt\" xmlns=\"http://www.w3.org/2000/svg\" xmlns:xlink=\"http://www.w3.org/1999/xlink\">\n",
       "<g class=\"graph\" id=\"graph0\" transform=\"scale(1 1) rotate(0) translate(4 1136)\">\n",
       "<title>G</title>\n",
       "<polygon fill=\"#ffffff\" points=\"-4,4 -4,-1136 178.2383,-1136 178.2383,4 -4,4\" stroke=\"transparent\"/>\n",
       "<!-- 5289185064 -->\n",
       "<g class=\"node\" id=\"node1\">\n",
       "<title>5289185064</title>\n",
       "<polygon fill=\"none\" points=\"0,-1095.5 0,-1131.5 174.2383,-1131.5 174.2383,-1095.5 0,-1095.5\" stroke=\"#000000\"/>\n",
       "<text fill=\"#000000\" font-family=\"Times,serif\" font-size=\"14.00\" text-anchor=\"middle\" x=\"87.1191\" y=\"-1109.3\">dense_17_input: InputLayer</text>\n",
       "</g>\n",
       "<!-- 5289184896 -->\n",
       "<g class=\"node\" id=\"node2\">\n",
       "<title>5289184896</title>\n",
       "<polygon fill=\"none\" points=\"31.4932,-1022.5 31.4932,-1058.5 142.7451,-1058.5 142.7451,-1022.5 31.4932,-1022.5\" stroke=\"#000000\"/>\n",
       "<text fill=\"#000000\" font-family=\"Times,serif\" font-size=\"14.00\" text-anchor=\"middle\" x=\"87.1191\" y=\"-1036.3\">dense_17: Dense</text>\n",
       "</g>\n",
       "<!-- 5289185064&#45;&gt;5289184896 -->\n",
       "<g class=\"edge\" id=\"edge1\">\n",
       "<title>5289185064-&gt;5289184896</title>\n",
       "<path d=\"M87.1191,-1095.4551C87.1191,-1087.3828 87.1191,-1077.6764 87.1191,-1068.6817\" fill=\"none\" stroke=\"#000000\"/>\n",
       "<polygon fill=\"#000000\" points=\"90.6192,-1068.5903 87.1191,-1058.5904 83.6192,-1068.5904 90.6192,-1068.5903\" stroke=\"#000000\"/>\n",
       "</g>\n",
       "<!-- 5288329168 -->\n",
       "<g class=\"node\" id=\"node3\">\n",
       "<title>5288329168</title>\n",
       "<polygon fill=\"none\" points=\"19.8174,-949.5 19.8174,-985.5 154.4209,-985.5 154.4209,-949.5 19.8174,-949.5\" stroke=\"#000000\"/>\n",
       "<text fill=\"#000000\" font-family=\"Times,serif\" font-size=\"14.00\" text-anchor=\"middle\" x=\"87.1191\" y=\"-963.3\">dropout_15: Dropout</text>\n",
       "</g>\n",
       "<!-- 5289184896&#45;&gt;5288329168 -->\n",
       "<g class=\"edge\" id=\"edge2\">\n",
       "<title>5289184896-&gt;5288329168</title>\n",
       "<path d=\"M87.1191,-1022.4551C87.1191,-1014.3828 87.1191,-1004.6764 87.1191,-995.6817\" fill=\"none\" stroke=\"#000000\"/>\n",
       "<polygon fill=\"#000000\" points=\"90.6192,-995.5903 87.1191,-985.5904 83.6192,-995.5904 90.6192,-995.5903\" stroke=\"#000000\"/>\n",
       "</g>\n",
       "<!-- 5179226432 -->\n",
       "<g class=\"node\" id=\"node4\">\n",
       "<title>5179226432</title>\n",
       "<polygon fill=\"none\" points=\"31.4932,-876.5 31.4932,-912.5 142.7451,-912.5 142.7451,-876.5 31.4932,-876.5\" stroke=\"#000000\"/>\n",
       "<text fill=\"#000000\" font-family=\"Times,serif\" font-size=\"14.00\" text-anchor=\"middle\" x=\"87.1191\" y=\"-890.3\">dense_18: Dense</text>\n",
       "</g>\n",
       "<!-- 5288329168&#45;&gt;5179226432 -->\n",
       "<g class=\"edge\" id=\"edge3\">\n",
       "<title>5288329168-&gt;5179226432</title>\n",
       "<path d=\"M87.1191,-949.4551C87.1191,-941.3828 87.1191,-931.6764 87.1191,-922.6817\" fill=\"none\" stroke=\"#000000\"/>\n",
       "<polygon fill=\"#000000\" points=\"90.6192,-922.5903 87.1191,-912.5904 83.6192,-922.5904 90.6192,-922.5903\" stroke=\"#000000\"/>\n",
       "</g>\n",
       "<!-- 5179281704 -->\n",
       "<g class=\"node\" id=\"node5\">\n",
       "<title>5179281704</title>\n",
       "<polygon fill=\"none\" points=\"19.8174,-803.5 19.8174,-839.5 154.4209,-839.5 154.4209,-803.5 19.8174,-803.5\" stroke=\"#000000\"/>\n",
       "<text fill=\"#000000\" font-family=\"Times,serif\" font-size=\"14.00\" text-anchor=\"middle\" x=\"87.1191\" y=\"-817.3\">dropout_16: Dropout</text>\n",
       "</g>\n",
       "<!-- 5179226432&#45;&gt;5179281704 -->\n",
       "<g class=\"edge\" id=\"edge4\">\n",
       "<title>5179226432-&gt;5179281704</title>\n",
       "<path d=\"M87.1191,-876.4551C87.1191,-868.3828 87.1191,-858.6764 87.1191,-849.6817\" fill=\"none\" stroke=\"#000000\"/>\n",
       "<polygon fill=\"#000000\" points=\"90.6192,-849.5903 87.1191,-839.5904 83.6192,-849.5904 90.6192,-849.5903\" stroke=\"#000000\"/>\n",
       "</g>\n",
       "<!-- 5289183440 -->\n",
       "<g class=\"node\" id=\"node6\">\n",
       "<title>5289183440</title>\n",
       "<polygon fill=\"none\" points=\"31.4932,-730.5 31.4932,-766.5 142.7451,-766.5 142.7451,-730.5 31.4932,-730.5\" stroke=\"#000000\"/>\n",
       "<text fill=\"#000000\" font-family=\"Times,serif\" font-size=\"14.00\" text-anchor=\"middle\" x=\"87.1191\" y=\"-744.3\">dense_19: Dense</text>\n",
       "</g>\n",
       "<!-- 5179281704&#45;&gt;5289183440 -->\n",
       "<g class=\"edge\" id=\"edge5\">\n",
       "<title>5179281704-&gt;5289183440</title>\n",
       "<path d=\"M87.1191,-803.4551C87.1191,-795.3828 87.1191,-785.6764 87.1191,-776.6817\" fill=\"none\" stroke=\"#000000\"/>\n",
       "<polygon fill=\"#000000\" points=\"90.6192,-776.5903 87.1191,-766.5904 83.6192,-776.5904 90.6192,-776.5903\" stroke=\"#000000\"/>\n",
       "</g>\n",
       "<!-- 5289349016 -->\n",
       "<g class=\"node\" id=\"node7\">\n",
       "<title>5289349016</title>\n",
       "<polygon fill=\"none\" points=\"19.8174,-657.5 19.8174,-693.5 154.4209,-693.5 154.4209,-657.5 19.8174,-657.5\" stroke=\"#000000\"/>\n",
       "<text fill=\"#000000\" font-family=\"Times,serif\" font-size=\"14.00\" text-anchor=\"middle\" x=\"87.1191\" y=\"-671.3\">dropout_17: Dropout</text>\n",
       "</g>\n",
       "<!-- 5289183440&#45;&gt;5289349016 -->\n",
       "<g class=\"edge\" id=\"edge6\">\n",
       "<title>5289183440-&gt;5289349016</title>\n",
       "<path d=\"M87.1191,-730.4551C87.1191,-722.3828 87.1191,-712.6764 87.1191,-703.6817\" fill=\"none\" stroke=\"#000000\"/>\n",
       "<polygon fill=\"#000000\" points=\"90.6192,-703.5903 87.1191,-693.5904 83.6192,-703.5904 90.6192,-703.5903\" stroke=\"#000000\"/>\n",
       "</g>\n",
       "<!-- 5288328664 -->\n",
       "<g class=\"node\" id=\"node8\">\n",
       "<title>5288328664</title>\n",
       "<polygon fill=\"none\" points=\"31.4932,-584.5 31.4932,-620.5 142.7451,-620.5 142.7451,-584.5 31.4932,-584.5\" stroke=\"#000000\"/>\n",
       "<text fill=\"#000000\" font-family=\"Times,serif\" font-size=\"14.00\" text-anchor=\"middle\" x=\"87.1191\" y=\"-598.3\">dense_20: Dense</text>\n",
       "</g>\n",
       "<!-- 5289349016&#45;&gt;5288328664 -->\n",
       "<g class=\"edge\" id=\"edge7\">\n",
       "<title>5289349016-&gt;5288328664</title>\n",
       "<path d=\"M87.1191,-657.4551C87.1191,-649.3828 87.1191,-639.6764 87.1191,-630.6817\" fill=\"none\" stroke=\"#000000\"/>\n",
       "<polygon fill=\"#000000\" points=\"90.6192,-630.5903 87.1191,-620.5904 83.6192,-630.5904 90.6192,-630.5903\" stroke=\"#000000\"/>\n",
       "</g>\n",
       "<!-- 5288862384 -->\n",
       "<g class=\"node\" id=\"node9\">\n",
       "<title>5288862384</title>\n",
       "<polygon fill=\"none\" points=\"19.8174,-511.5 19.8174,-547.5 154.4209,-547.5 154.4209,-511.5 19.8174,-511.5\" stroke=\"#000000\"/>\n",
       "<text fill=\"#000000\" font-family=\"Times,serif\" font-size=\"14.00\" text-anchor=\"middle\" x=\"87.1191\" y=\"-525.3\">dropout_18: Dropout</text>\n",
       "</g>\n",
       "<!-- 5288328664&#45;&gt;5288862384 -->\n",
       "<g class=\"edge\" id=\"edge8\">\n",
       "<title>5288328664-&gt;5288862384</title>\n",
       "<path d=\"M87.1191,-584.4551C87.1191,-576.3828 87.1191,-566.6764 87.1191,-557.6817\" fill=\"none\" stroke=\"#000000\"/>\n",
       "<polygon fill=\"#000000\" points=\"90.6192,-557.5903 87.1191,-547.5904 83.6192,-557.5904 90.6192,-557.5903\" stroke=\"#000000\"/>\n",
       "</g>\n",
       "<!-- 5289009560 -->\n",
       "<g class=\"node\" id=\"node10\">\n",
       "<title>5289009560</title>\n",
       "<polygon fill=\"none\" points=\"31.4932,-438.5 31.4932,-474.5 142.7451,-474.5 142.7451,-438.5 31.4932,-438.5\" stroke=\"#000000\"/>\n",
       "<text fill=\"#000000\" font-family=\"Times,serif\" font-size=\"14.00\" text-anchor=\"middle\" x=\"87.1191\" y=\"-452.3\">dense_21: Dense</text>\n",
       "</g>\n",
       "<!-- 5288862384&#45;&gt;5289009560 -->\n",
       "<g class=\"edge\" id=\"edge9\">\n",
       "<title>5288862384-&gt;5289009560</title>\n",
       "<path d=\"M87.1191,-511.4551C87.1191,-503.3828 87.1191,-493.6764 87.1191,-484.6817\" fill=\"none\" stroke=\"#000000\"/>\n",
       "<polygon fill=\"#000000\" points=\"90.6192,-484.5903 87.1191,-474.5904 83.6192,-484.5904 90.6192,-484.5903\" stroke=\"#000000\"/>\n",
       "</g>\n",
       "<!-- 5289704472 -->\n",
       "<g class=\"node\" id=\"node11\">\n",
       "<title>5289704472</title>\n",
       "<polygon fill=\"none\" points=\"19.8174,-365.5 19.8174,-401.5 154.4209,-401.5 154.4209,-365.5 19.8174,-365.5\" stroke=\"#000000\"/>\n",
       "<text fill=\"#000000\" font-family=\"Times,serif\" font-size=\"14.00\" text-anchor=\"middle\" x=\"87.1191\" y=\"-379.3\">dropout_19: Dropout</text>\n",
       "</g>\n",
       "<!-- 5289009560&#45;&gt;5289704472 -->\n",
       "<g class=\"edge\" id=\"edge10\">\n",
       "<title>5289009560-&gt;5289704472</title>\n",
       "<path d=\"M87.1191,-438.4551C87.1191,-430.3828 87.1191,-420.6764 87.1191,-411.6817\" fill=\"none\" stroke=\"#000000\"/>\n",
       "<polygon fill=\"#000000\" points=\"90.6192,-411.5903 87.1191,-401.5904 83.6192,-411.5904 90.6192,-411.5903\" stroke=\"#000000\"/>\n",
       "</g>\n",
       "<!-- 5289064600 -->\n",
       "<g class=\"node\" id=\"node12\">\n",
       "<title>5289064600</title>\n",
       "<polygon fill=\"none\" points=\"31.4932,-292.5 31.4932,-328.5 142.7451,-328.5 142.7451,-292.5 31.4932,-292.5\" stroke=\"#000000\"/>\n",
       "<text fill=\"#000000\" font-family=\"Times,serif\" font-size=\"14.00\" text-anchor=\"middle\" x=\"87.1191\" y=\"-306.3\">dense_22: Dense</text>\n",
       "</g>\n",
       "<!-- 5289704472&#45;&gt;5289064600 -->\n",
       "<g class=\"edge\" id=\"edge11\">\n",
       "<title>5289704472-&gt;5289064600</title>\n",
       "<path d=\"M87.1191,-365.4551C87.1191,-357.3828 87.1191,-347.6764 87.1191,-338.6817\" fill=\"none\" stroke=\"#000000\"/>\n",
       "<polygon fill=\"#000000\" points=\"90.6192,-338.5903 87.1191,-328.5904 83.6192,-338.5904 90.6192,-338.5903\" stroke=\"#000000\"/>\n",
       "</g>\n",
       "<!-- 5290359440 -->\n",
       "<g class=\"node\" id=\"node13\">\n",
       "<title>5290359440</title>\n",
       "<polygon fill=\"none\" points=\"19.8174,-219.5 19.8174,-255.5 154.4209,-255.5 154.4209,-219.5 19.8174,-219.5\" stroke=\"#000000\"/>\n",
       "<text fill=\"#000000\" font-family=\"Times,serif\" font-size=\"14.00\" text-anchor=\"middle\" x=\"87.1191\" y=\"-233.3\">dropout_20: Dropout</text>\n",
       "</g>\n",
       "<!-- 5289064600&#45;&gt;5290359440 -->\n",
       "<g class=\"edge\" id=\"edge12\">\n",
       "<title>5289064600-&gt;5290359440</title>\n",
       "<path d=\"M87.1191,-292.4551C87.1191,-284.3828 87.1191,-274.6764 87.1191,-265.6817\" fill=\"none\" stroke=\"#000000\"/>\n",
       "<polygon fill=\"#000000\" points=\"90.6192,-265.5903 87.1191,-255.5904 83.6192,-265.5904 90.6192,-265.5903\" stroke=\"#000000\"/>\n",
       "</g>\n",
       "<!-- 5290249688 -->\n",
       "<g class=\"node\" id=\"node14\">\n",
       "<title>5290249688</title>\n",
       "<polygon fill=\"none\" points=\"31.4932,-146.5 31.4932,-182.5 142.7451,-182.5 142.7451,-146.5 31.4932,-146.5\" stroke=\"#000000\"/>\n",
       "<text fill=\"#000000\" font-family=\"Times,serif\" font-size=\"14.00\" text-anchor=\"middle\" x=\"87.1191\" y=\"-160.3\">dense_23: Dense</text>\n",
       "</g>\n",
       "<!-- 5290359440&#45;&gt;5290249688 -->\n",
       "<g class=\"edge\" id=\"edge13\">\n",
       "<title>5290359440-&gt;5290249688</title>\n",
       "<path d=\"M87.1191,-219.4551C87.1191,-211.3828 87.1191,-201.6764 87.1191,-192.6817\" fill=\"none\" stroke=\"#000000\"/>\n",
       "<polygon fill=\"#000000\" points=\"90.6192,-192.5903 87.1191,-182.5904 83.6192,-192.5904 90.6192,-192.5903\" stroke=\"#000000\"/>\n",
       "</g>\n",
       "<!-- 5290613896 -->\n",
       "<g class=\"node\" id=\"node15\">\n",
       "<title>5290613896</title>\n",
       "<polygon fill=\"none\" points=\"19.8174,-73.5 19.8174,-109.5 154.4209,-109.5 154.4209,-73.5 19.8174,-73.5\" stroke=\"#000000\"/>\n",
       "<text fill=\"#000000\" font-family=\"Times,serif\" font-size=\"14.00\" text-anchor=\"middle\" x=\"87.1191\" y=\"-87.3\">dropout_21: Dropout</text>\n",
       "</g>\n",
       "<!-- 5290249688&#45;&gt;5290613896 -->\n",
       "<g class=\"edge\" id=\"edge14\">\n",
       "<title>5290249688-&gt;5290613896</title>\n",
       "<path d=\"M87.1191,-146.4551C87.1191,-138.3828 87.1191,-128.6764 87.1191,-119.6817\" fill=\"none\" stroke=\"#000000\"/>\n",
       "<polygon fill=\"#000000\" points=\"90.6192,-119.5903 87.1191,-109.5904 83.6192,-119.5904 90.6192,-119.5903\" stroke=\"#000000\"/>\n",
       "</g>\n",
       "<!-- 5290510264 -->\n",
       "<g class=\"node\" id=\"node16\">\n",
       "<title>5290510264</title>\n",
       "<polygon fill=\"none\" points=\"31.4932,-.5 31.4932,-36.5 142.7451,-36.5 142.7451,-.5 31.4932,-.5\" stroke=\"#000000\"/>\n",
       "<text fill=\"#000000\" font-family=\"Times,serif\" font-size=\"14.00\" text-anchor=\"middle\" x=\"87.1191\" y=\"-14.3\">dense_24: Dense</text>\n",
       "</g>\n",
       "<!-- 5290613896&#45;&gt;5290510264 -->\n",
       "<g class=\"edge\" id=\"edge15\">\n",
       "<title>5290613896-&gt;5290510264</title>\n",
       "<path d=\"M87.1191,-73.4551C87.1191,-65.3828 87.1191,-55.6764 87.1191,-46.6817\" fill=\"none\" stroke=\"#000000\"/>\n",
       "<polygon fill=\"#000000\" points=\"90.6192,-46.5903 87.1191,-36.5904 83.6192,-46.5904 90.6192,-46.5903\" stroke=\"#000000\"/>\n",
       "</g>\n",
       "</g>\n",
       "</svg>"
      ],
      "text/plain": [
       "<IPython.core.display.SVG object>"
      ]
     },
     "execution_count": 22,
     "metadata": {},
     "output_type": "execute_result"
    }
   ],
   "source": [
    "from IPython.display import SVG\n",
    "from keras.utils.vis_utils import model_to_dot\n",
    "\n",
    "SVG(model_to_dot(model_hypothesis()).create(prog='dot', format='svg'))"
   ]
  },
  {
   "cell_type": "code",
   "execution_count": 23,
   "metadata": {},
   "outputs": [
    {
     "name": "stdout",
     "output_type": "stream",
     "text": [
      "5280/5668 [==========================>...] - ETA: 0s"
     ]
    }
   ],
   "source": [
    "y_pred = estimator.predict_proba(svd_test)"
   ]
  },
  {
   "cell_type": "code",
   "execution_count": null,
   "metadata": {
    "collapsed": true
   },
   "outputs": [],
   "source": [
    "submission = pd.DataFrame(y_pred)\n",
    "submission['id'] = test_index\n",
    "submission.columns = ['class1', 'class2', 'class3', 'class4', 'class5', 'class6', 'class7', 'class8', 'class9', 'id']\n",
    "submission.to_csv(directory + \"/output/my_submission.csv\",index=False)"
   ]
  }
 ],
 "metadata": {
  "kernelspec": {
   "display_name": "Python [conda env:W207-tf2]",
   "language": "python",
   "name": "conda-env-W207-tf2-py"
  },
  "language_info": {
   "codemirror_mode": {
    "name": "ipython",
    "version": 3
   },
   "file_extension": ".py",
   "mimetype": "text/x-python",
   "name": "python",
   "nbconvert_exporter": "python",
   "pygments_lexer": "ipython3",
   "version": "3.5.3"
  }
 },
 "nbformat": 4,
 "nbformat_minor": 2
}
