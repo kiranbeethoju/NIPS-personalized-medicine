{
 "cells": [
  {
   "cell_type": "markdown",
   "metadata": {},
   "source": [
    "## Personalized Medicine: Redefining Cancer Treatment\n",
    "\n",
    "\n",
    "\n",
    "#### Matt Shaffer https://github.com/planetceres \n",
    "#### Kaggle Competition: https://www.kaggle.com/c/msk-redefining-cancer-treatment"
   ]
  },
  {
   "cell_type": "markdown",
   "metadata": {},
   "source": [
    "According to [discussion boards](https://www.kaggle.com/c/msk-redefining-cancer-treatment/discussion/35810#202604) on Kaggle, the classes we are trying to predict appear to be as follows:\n",
    "\n",
    "1. Likely Loss-of-function\n",
    "2. Likely Gain-of-function\n",
    "3. Neutral\n",
    "4. Loss-of-function\n",
    "5. Likely Neutral\n",
    "6. Inconclusive\n",
    "7. Gain-of-function\n",
    "8. Likely Switch-of-function\n",
    "9. Switch-of-function\n"
   ]
  },
  {
   "cell_type": "markdown",
   "metadata": {},
   "source": [
    "#### Dependencies"
   ]
  },
  {
   "cell_type": "code",
   "execution_count": 1,
   "metadata": {
    "collapsed": true
   },
   "outputs": [],
   "source": [
    "import os\n",
    "import time\n",
    "import glob\n",
    "import re\n",
    "import pandas as pd\n",
    "import numpy as np\n",
    "import scipy.sparse as sps\n",
    "import Bio\n",
    "\n",
    "from sklearn.decomposition import TruncatedSVD\n",
    "from sklearn.preprocessing import LabelEncoder\n",
    "from sklearn.feature_extraction.text import CountVectorizer\n",
    "from sklearn.feature_extraction.text import TfidfTransformer\n",
    "from sklearn.feature_extraction.text import TfidfVectorizer\n",
    "from sklearn.model_selection import GridSearchCV\n",
    "from sklearn.metrics import make_scorer\n",
    "from sklearn.metrics import explained_variance_score\n",
    "from sklearn.pipeline import make_pipeline\n",
    "\n",
    "from nltk.stem import PorterStemmer, WordNetLemmatizer\n",
    "from nltk.tokenize import word_tokenize\n",
    "from nltk.corpus import stopwords\n",
    "\n",
    "%matplotlib inline\n",
    "import matplotlib.pyplot as plt\n",
    "\n",
    "import logging\n",
    "logging.basicConfig(level=logging.INFO, format='%(asctime)s %(message)s')\n",
    "from itertools import islice"
   ]
  },
  {
   "cell_type": "code",
   "execution_count": 2,
   "metadata": {
    "collapsed": true
   },
   "outputs": [],
   "source": [
    "model_version = '001'"
   ]
  },
  {
   "cell_type": "code",
   "execution_count": 3,
   "metadata": {
    "collapsed": true
   },
   "outputs": [],
   "source": [
    "model_name = 'model_' + model_version"
   ]
  },
  {
   "cell_type": "code",
   "execution_count": 3,
   "metadata": {
    "collapsed": true
   },
   "outputs": [],
   "source": [
    "data_directory = '/Data/kaggle/Personalized Medicine'\n",
    "model_directory = data_directory + '/saved_models'"
   ]
  },
  {
   "cell_type": "code",
   "execution_count": 5,
   "metadata": {
    "collapsed": true
   },
   "outputs": [],
   "source": [
    "model_path = os.path.join(model_directory, model_name)"
   ]
  },
  {
   "cell_type": "code",
   "execution_count": 6,
   "metadata": {
    "collapsed": true
   },
   "outputs": [],
   "source": [
    "# Create model directory if it does not exist\n",
    "if not os.path.isdir(model_directory):\n",
    "    print(\"creating directory for saved models\")\n",
    "    os.mkdir(model_directory)"
   ]
  },
  {
   "cell_type": "code",
   "execution_count": 7,
   "metadata": {
    "collapsed": true
   },
   "outputs": [],
   "source": [
    "# Load model to resume training or perform inference\n",
    "def load_model_from_json(model_path):\n",
    "    model = model_from_json(open(model_path + '.json').read())\n",
    "    model.load_weights(model_path + '.h5')\n",
    "    #model.compile(optimizer=rmsprop, loss='mse')\n",
    "    return model"
   ]
  },
  {
   "cell_type": "code",
   "execution_count": 8,
   "metadata": {
    "collapsed": true
   },
   "outputs": [],
   "source": [
    "from keras.models import load_model\n",
    "# Load model to resume training or perform inference\n",
    "def load_recent_model(model_path):\n",
    "    # Locate the most recent model the folder to resume training from\n",
    "    model_recent = max(glob.iglob(model_path + '*.hdf5'), key=os.path.getctime)\n",
    "    print(\"Using model at checkpoint: {}\".format(model_recent))\n",
    "    #model = model_from_json(open(model_path + '.json').read())\n",
    "    model = load_model(model_recent)\n",
    "    #model.compile(optimizer=rmsprop, loss='mse')\n",
    "    return model"
   ]
  },
  {
   "cell_type": "code",
   "execution_count": 9,
   "metadata": {
    "collapsed": true
   },
   "outputs": [],
   "source": [
    "# Save model\n",
    "def save_model_to_json(m, model_path):    \n",
    "    json_string = m.model.to_json()\n",
    "    open(model_path + '.json', 'w').write(json_string)\n",
    "    m.model.save_weights(model_path + '.h5', overwrite=True)"
   ]
  },
  {
   "cell_type": "code",
   "execution_count": 10,
   "metadata": {
    "collapsed": true
   },
   "outputs": [],
   "source": [
    "def print_op_str(data_type):\n",
    "    p = \"Done processing \" + data_type + \" data in {:.2f} seconds\"\n",
    "    return p"
   ]
  },
  {
   "cell_type": "code",
   "execution_count": 11,
   "metadata": {
    "collapsed": true
   },
   "outputs": [],
   "source": [
    "def print_blank(n):\n",
    "    print(\" \"*n, end=\"\\r\")"
   ]
  },
  {
   "cell_type": "markdown",
   "metadata": {},
   "source": [
    "### Data Overview"
   ]
  },
  {
   "cell_type": "code",
   "execution_count": 4,
   "metadata": {
    "collapsed": true
   },
   "outputs": [],
   "source": [
    "train_variants = pd.read_csv(data_directory + \"/input/training_variants\")\n",
    "test_variants = pd.read_csv(data_directory + \"/input/test_variants\")\n",
    "train_text = pd.read_csv(data_directory + \"/input/training_text\", sep=\"\\|\\|\", engine='python', header=None, skiprows=1, names=[\"ID\",\"Text\"])\n",
    "test_text = pd.read_csv(data_directory + \"/input/test_text\", sep=\"\\|\\|\", engine='python', header=None, skiprows=1, names=[\"ID\",\"Text\"])"
   ]
  },
  {
   "cell_type": "markdown",
   "metadata": {},
   "source": [
    "The test set has no labels and is used only for score submission. This will be a challenge since the sample size is small, and it will be hard to learn the properties of the population needed to perform inference. "
   ]
  },
  {
   "cell_type": "code",
   "execution_count": 5,
   "metadata": {},
   "outputs": [
    {
     "name": "stdout",
     "output_type": "stream",
     "text": [
      "['ID', 'Gene', 'Variation', 'Class']\n",
      "['ID', 'Gene', 'Variation']\n"
     ]
    }
   ],
   "source": [
    "# Test set has no labels and is used \n",
    "print(list(train_variants.columns))\n",
    "print(list(test_variants.columns))"
   ]
  },
  {
   "cell_type": "markdown",
   "metadata": {},
   "source": [
    "In addition to the gene variant data, we also have a text corpus for each example that provides the clinical evidence that human experts used to classify the genetic mutations. This is essentially an unstructured feature set, and our first task will be to map this noisy data to a set of features that can more easily be used for prediction. "
   ]
  },
  {
   "cell_type": "code",
   "execution_count": 6,
   "metadata": {},
   "outputs": [
    {
     "name": "stdout",
     "output_type": "stream",
     "text": [
      "['ID', 'Text']\n",
      "['ID', 'Text']\n"
     ]
    }
   ],
   "source": [
    "print(list(train_text.columns))\n",
    "print(list(test_text.columns))"
   ]
  },
  {
   "cell_type": "code",
   "execution_count": 7,
   "metadata": {
    "collapsed": true
   },
   "outputs": [],
   "source": [
    "# Merge the text with the variant data, and separate the target values (`Class`) from the features\n",
    "train = pd.merge(train_variants, train_text, how='left', on='ID')\n",
    "y_train = train['Class'].values\n",
    "X_train = train.drop('Class', axis=1)"
   ]
  },
  {
   "cell_type": "code",
   "execution_count": 8,
   "metadata": {
    "collapsed": true
   },
   "outputs": [],
   "source": [
    "# Do the same thing with the test data, but note that there are no classes to separate as targets\n",
    "X_test = pd.merge(test_variants, test_text, how='left', on='ID')\n",
    "test_index = X_test['ID'].values"
   ]
  },
  {
   "cell_type": "code",
   "execution_count": 9,
   "metadata": {
    "collapsed": true
   },
   "outputs": [],
   "source": [
    "# Create mini data sets for model building\n",
    "train_mini = train.sample(frac=0.05)\n",
    "y_train_mini = train_mini['Class'].values\n",
    "X_train_mini = train_mini.drop('Class', axis=1)\n",
    "X_test_mini = X_test.sample(frac=0.05)\n",
    "test_index_mini = X_test_mini['ID'].values\n",
    "\n",
    "# Create mini dev set for model building\n",
    "dev_mini = train.sample(frac=0.05)\n",
    "y_dev_mini = dev_mini['Class'].values\n",
    "X_dev_mini = dev_mini.drop('Class', axis=1)"
   ]
  },
  {
   "cell_type": "code",
   "execution_count": 10,
   "metadata": {
    "scrolled": true
   },
   "outputs": [
    {
     "data": {
      "text/plain": [
       "(166, 4)"
      ]
     },
     "execution_count": 10,
     "metadata": {},
     "output_type": "execute_result"
    }
   ],
   "source": [
    "X_train_mini.shape"
   ]
  },
  {
   "cell_type": "code",
   "execution_count": 12,
   "metadata": {
    "collapsed": true
   },
   "outputs": [],
   "source": [
    "# create dataset with all variants\n",
    "all_variants = pd.concat([train_variants, test_variants], ignore_index=True)"
   ]
  },
  {
   "cell_type": "markdown",
   "metadata": {},
   "source": [
    "### TFIDF\n",
    "\n",
    "We need some way to create learnable features out of the text, so applying a TFIDF vectorizer seems like a logical first strategy. "
   ]
  },
  {
   "cell_type": "code",
   "execution_count": 17,
   "metadata": {
    "collapsed": true,
    "scrolled": true
   },
   "outputs": [],
   "source": [
    "corpus_train = X_train['Text']\n",
    "corpus_test = X_test['Text']"
   ]
  },
  {
   "cell_type": "code",
   "execution_count": 15,
   "metadata": {},
   "outputs": [
    {
     "data": {
      "text/plain": [
       "(3321,)"
      ]
     },
     "execution_count": 15,
     "metadata": {},
     "output_type": "execute_result"
    }
   ],
   "source": [
    "corpus_train.shape"
   ]
  },
  {
   "cell_type": "code",
   "execution_count": 21,
   "metadata": {},
   "outputs": [
    {
     "data": {
      "text/plain": [
       "0    Cyclin-dependent kinases (CDKs) regulate a var...\n",
       "1     Abstract Background  Non-small cell lung canc...\n",
       "2     Abstract Background  Non-small cell lung canc...\n",
       "3    Recent evidence has demonstrated that acquired...\n",
       "4    Oncogenic mutations in the monomeric Casitas B...\n",
       "Name: Text, dtype: object"
      ]
     },
     "execution_count": 21,
     "metadata": {},
     "output_type": "execute_result"
    }
   ],
   "source": [
    "corpus_train.head()"
   ]
  },
  {
   "cell_type": "code",
   "execution_count": 23,
   "metadata": {},
   "outputs": [
    {
     "data": {
      "text/plain": [
       "0    2. This mutation resulted in a myeloproliferat...\n",
       "1     Abstract The Large Tumor Suppressor 1 (LATS1)...\n",
       "2    Vascular endothelial growth factor receptor (V...\n",
       "3    Inflammatory myofibroblastic tumor (IMT) is a ...\n",
       "4     Abstract Retinoblastoma is a pediatric retina...\n",
       "Name: Text, dtype: object"
      ]
     },
     "execution_count": 23,
     "metadata": {},
     "output_type": "execute_result"
    }
   ],
   "source": [
    "corpus_test.head()"
   ]
  },
  {
   "cell_type": "code",
   "execution_count": 17,
   "metadata": {},
   "outputs": [
    {
     "data": {
      "text/plain": [
       "(5668,)"
      ]
     },
     "execution_count": 17,
     "metadata": {},
     "output_type": "execute_result"
    }
   ],
   "source": [
    "corpus_test.shape"
   ]
  },
  {
   "cell_type": "code",
   "execution_count": 18,
   "metadata": {
    "collapsed": true
   },
   "outputs": [],
   "source": [
    "corpus_train_mini = X_train_mini['Text']\n",
    "corpus_test_mini = X_test_mini['Text']\n",
    "corpus_dev_mini = X_dev_mini['Text']"
   ]
  },
  {
   "cell_type": "markdown",
   "metadata": {},
   "source": [
    "**Functions**"
   ]
  },
  {
   "cell_type": "code",
   "execution_count": 19,
   "metadata": {
    "collapsed": true
   },
   "outputs": [],
   "source": [
    "def sparse_metrics(transformer_type, sparse_mtx):\n",
    "    print(\"Vocabulary length: {}\".format(len(transformer_type.vocabulary_)))\n",
    "    print('sparse matrix shape: {}'.format(sparse_mtx.shape))\n",
    "    print('nonzero count: {}'.format(sparse_mtx.nnz))\n",
    "    print('sparsity: {:.2f}'.format((100.0 * sparse_mtx.nnz / (sparse_mtx.shape[0] * sparse_mtx.shape[1]))))"
   ]
  },
  {
   "cell_type": "code",
   "execution_count": 20,
   "metadata": {
    "collapsed": true
   },
   "outputs": [],
   "source": [
    "def tfidf_func(X, Y, ngrams=1, plotting=False):\n",
    "    t = time.time()\n",
    "    tfidf = TfidfVectorizer(stop_words = 'english', ngram_range=(1, ngrams), sublinear_tf=True, use_idf=True)\n",
    "    tfidf_train = tfidf.fit_transform(X)\n",
    "    print(print_op_str(\"train\").format(time.time()-t), end=\"\\r\")\n",
    "    tfidf_test = tfidf.transform(Y)\n",
    "    print(print_op_str(\"test\").format(time.time()-t), end=\"\\r\")\n",
    "    print_blank(len(print_op_str(\"test\")))\n",
    "    \n",
    "    print_op = \"Shape: {}\\nNon-zero mean: {}\\nNon-zero median: {}\"\n",
    "    mean_nnz = int(round(np.mean(tfidf_train.getnnz(1))))\n",
    "    median_nnz = int(round(np.median(tfidf_train.getnnz(1))))\n",
    "    print(print_op.format(tfidf_train.shape, mean_nnz,median_nnz))\n",
    "    print(\"\\nDone in {:.2f} seconds\".format(time.time()-t))\n",
    "    \n",
    "    if plotting == True:     \n",
    "        fig, ax = plt.subplots(figsize=(12, 6))\n",
    "        plt.plot(np.sort(tfidf_train.getnnz(1))[::-1])\n",
    "\n",
    "        # Log transformed\n",
    "        plt.figure(figsize=(12,6))\n",
    "        plt.plot(np.sort(np.log(tfidf_train.getnnz(1)))[::-1])\n",
    "        \n",
    "    return tfidf, tfidf_train, tfidf_test\n"
   ]
  },
  {
   "cell_type": "code",
   "execution_count": 40,
   "metadata": {},
   "outputs": [
    {
     "name": "stdout",
     "output_type": "stream",
     "text": [
      "Shape: (166, 40669)                        \n",
      "Non-zero mean: 1628\n",
      "Non-zero median: 1385\n",
      "Done in 4.14 seconds\n"
     ]
    }
   ],
   "source": [
    "# TFIDF on mini dataset\n",
    "tf_1, tf_train_1, tf_test_1 = tfidf_func(corpus_train_mini, corpus_test_mini, ngrams=1, plotting=False)"
   ]
  },
  {
   "cell_type": "code",
   "execution_count": 44,
   "metadata": {},
   "outputs": [
    {
     "name": "stdout",
     "output_type": "stream",
     "text": [
      "Vocabulary length: 40669\n",
      "sparse matrix shape: (166, 40669)\n",
      "nonzero count: 270168\n",
      "sparsity: 4.00\n"
     ]
    }
   ],
   "source": [
    "sparse_metrics(tf_1, tf_train_1)"
   ]
  },
  {
   "cell_type": "markdown",
   "metadata": {},
   "source": [
    "** Ngram == 2 **"
   ]
  },
  {
   "cell_type": "code",
   "execution_count": 119,
   "metadata": {
    "collapsed": true
   },
   "outputs": [],
   "source": [
    "tfidf = TfidfVectorizer(stop_words = 'english', ngram_range=(1, 2), sublinear_tf=True, use_idf=True)\n",
    "tfidf_train = tfidf.fit_transform(corpus_train)\n",
    "tfidf_test = tfidf.transform(corpus_test)"
   ]
  },
  {
   "cell_type": "code",
   "execution_count": 120,
   "metadata": {
    "scrolled": true
   },
   "outputs": [
    {
     "name": "stdout",
     "output_type": "stream",
     "text": [
      "Shape: (3321, 2887033)\n",
      "Non-zero mean: 6015\n",
      "Non-zero median: 4555\n"
     ]
    }
   ],
   "source": [
    "print(\"Shape: {}\\nNon-zero mean: {}\\nNon-zero median: {}\".format(tfidf_train.shape, \n",
    "                                                                 int(round(np.mean(tfidf_train.getnnz(1)))),\n",
    "                                                                 int(round(np.median(tfidf_train.getnnz(1))))))"
   ]
  },
  {
   "cell_type": "code",
   "execution_count": 121,
   "metadata": {},
   "outputs": [
    {
     "data": {
      "text/plain": [
       "4240"
      ]
     },
     "execution_count": 121,
     "metadata": {},
     "output_type": "execute_result"
    }
   ],
   "source": [
    "# Non zero values for first entry in training set\n",
    "tfidf_train[0].nnz"
   ]
  },
  {
   "cell_type": "markdown",
   "metadata": {},
   "source": [
    "Plot non-zero values"
   ]
  },
  {
   "cell_type": "code",
   "execution_count": 122,
   "metadata": {
    "scrolled": true
   },
   "outputs": [
    {
     "data": {
      "text/plain": [
       "[<matplotlib.lines.Line2D at 0x20da83da0>]"
      ]
     },
     "execution_count": 122,
     "metadata": {},
     "output_type": "execute_result"
    },
    {
     "data": {
      "image/png": "[encoded data removed]",
      "text/plain": [
       "<matplotlib.figure.Figure at 0x1c97f08d0>"
      ]
     },
     "metadata": {},
     "output_type": "display_data"
    }
   ],
   "source": [
    "fig, ax = plt.subplots(figsize=(12, 6))\n",
    "plt.plot(np.sort(tfidf_train.getnnz(1))[::-1])"
   ]
  },
  {
   "cell_type": "code",
   "execution_count": 123,
   "metadata": {},
   "outputs": [
    {
     "data": {
      "text/plain": [
       "[<matplotlib.lines.Line2D at 0x1a8de2c88>]"
      ]
     },
     "execution_count": 123,
     "metadata": {},
     "output_type": "execute_result"
    },
    {
     "data": {
      "image/png": "[encoded data removed]",
      "text/plain": [
       "<matplotlib.figure.Figure at 0x18e8ea3c8>"
      ]
     },
     "metadata": {},
     "output_type": "display_data"
    }
   ],
   "source": [
    "# Log transformed\n",
    "plt.figure(figsize=(12,6))\n",
    "plt.plot(np.sort(np.log(tfidf_train.getnnz(1)))[::-1])"
   ]
  },
  {
   "cell_type": "code",
   "execution_count": 124,
   "metadata": {
    "scrolled": true
   },
   "outputs": [
    {
     "data": {
      "text/plain": [
       "array([ 193.55342793,  138.98355951,  121.01724619,   98.93547919,\n",
       "         91.42839175,   85.64171263,   84.84211607,   84.70932757,\n",
       "         84.5755022 ,   84.44620146])"
      ]
     },
     "execution_count": 124,
     "metadata": {},
     "output_type": "execute_result"
    }
   ],
   "source": [
    "np.sort(np.array(tfidf_train.sum(axis=0))[0])[::-1][:10]"
   ]
  },
  {
   "cell_type": "code",
   "execution_count": 125,
   "metadata": {},
   "outputs": [
    {
     "data": {
      "text/plain": [
       "1814889"
      ]
     },
     "execution_count": 125,
     "metadata": {},
     "output_type": "execute_result"
    }
   ],
   "source": [
    "np.argmax(np.array(tfidf_train.sum(axis=0))[0])"
   ]
  },
  {
   "cell_type": "markdown",
   "metadata": {},
   "source": [
    "The top words overall that contribute to TF-IDF scores for the training set:"
   ]
  },
  {
   "cell_type": "code",
   "execution_count": 128,
   "metadata": {
    "scrolled": true
   },
   "outputs": [
    {
     "name": "stdout",
     "output_type": "stream",
     "text": [
      "[1] mutations  [2] brca1  [3] cells  [4] variants  [5] fig  [6] mutation  [7] al  [8] cell  [9] et al  [10] et  [11] cancer  [12] pten  [13] egfr  [14] figure  [15] patients  [16] p53  [17] protein  [18] activity  [19] kinase  [20] mutant  [21] tumor  [22] type  [23] domain  [24] mutants  [25] expression  [26] brct  [27] binding  [28] vus  [29] ras  [30] alk  [31] data  [32] using  [33] wild  [34] tumors  [35] wild type  [36] analysis  [37] gene  [38] dna  [39] table  [40] raf  [41] deleterious  [42] supplementary  [43] 10  [44] activation  [45] braf  [46] exon  [47] imatinib  [48] variant  [49] kit  [50] brca2  [51] resistance  [52] pdgfra  [53] functional  [54] results  [55] genes  [56] function  [57] associated  [58] tsc2  [59] missense  [60] flt3  [61] wt  [62] identified  [63] clinical  [64] used  [65] growth  [66] shown  [67] signaling  [68] proteins  [69] human  [70] residues  [71] akt  [72] mtor  [73] assay  [74] study  [75] breast  [76] neutral  [77] assays  [78] phosphorylation  [79] gefitinib  [80] lines  [81] fgfr2  [82] erbb2  [83] smad4  [84] structure  [85] melanoma  [86] levels  [87] sequence  [88] treatment  [89] cases  [90] amino  [91] cell lines  [92] observed  [93] receptor  [94] fusion  [95] family  [96] studies  [97] pathway  [98] patient  [99] tsc1  [100] 20  [101] different  [102] disease  [103] nrf2  [104] samples  [105] lung  [106] kras  [107] response  [108] number  [109] 12  [110] reported  [111] transcriptional  [112] p110α  [113] showed  [114] expressing  [115] author manuscript  [116] inhibitors  [117] loop  [118] previously  [119] tyrosine  [120] site  [121] ret  [122] based  [123] 11  [124] her2  [125] smad2  [126] specific  [127] classification  [128] 15  [129] sequencing  [130] mice  [131] control  [132] fgfr3  [133] pcr  [134] loss  [135] brca  [136] described  [137] high  [138] anti  [139] met  [140] mm  [141] pik3ca  [142] risk  [143] phosphatase  [144] domains  [145] smad3  [146] 14  [147] cbl  [148] performed  [149] compared  [150] notch  [151] pathogenic  [152] pi3k  [153] erk  [154] cancers  [155] region  [156] inhibitor  [157] supplementary fig  [158] effect  [159] genetic  [160] somatic  [161] egfr mutations  [162] interaction  [163] mutated  [164] line  [165] survival  [166] acid  [167] catalytic  [168] brca1 brct  [169] including  [170] kinase domain  [171] vitro  [172] yeast  [173] ba f3  [174] increased  [175] 13  [176] ba  [177] transfected  [178] inhibition  [179] jak2  [180] crizotinib  [181] individuals  [182] known  [183] odds  [184] 50  [185] similar  [186] mek  [187] nsclc  [188] proliferation  [189] normal  [190] likely  [191] oncogenic  [192] 18  [193] terminal  [194] activating  [195] author  [196] class  [197] resistant  [198] p16ink4a  [199] sensitivity  [200] f3  "
     ]
    }
   ],
   "source": [
    "top_features = np.argsort(np.array(tfidf_train.sum(axis=0))[0])[::-1][:200]\n",
    "for i, idx in enumerate(top_features):\n",
    "    print(\"[{}] {}\".format(i+1, tfidf.get_feature_names()[idx]), end=\" \"*2)"
   ]
  },
  {
   "cell_type": "markdown",
   "metadata": {},
   "source": [
    "The words that contribute least overall to TF-IDF scores for the training set are listed below. Many of these appear to be words with citations following them, such as `identified16`, `treatments6`, `tumours18`, `immunological26`, etc. Unfortunately, this presents a challenge because some of the genes also end with numbers(such as `RUNX1`, `BRCA2`), which means we can't just truncate the words. We also see things like gene sequences (i.e. `aagggaccagtacag`) and measurements (`333nm`, `200µg`) that likely refer to results discussed in specific papers. These might be relevant in very specific context, but probably won't help generalize predictions during inference."
   ]
  },
  {
   "cell_type": "code",
   "execution_count": null,
   "metadata": {
    "collapsed": true
   },
   "outputs": [],
   "source": [
    "bottom_features = np.argsort(np.array(tfidf_train.sum(axis=0))[0])[::-1][-200:-1]\n",
    "for i, idx in enumerate(bottom_features):\n",
    "    print(\"[{}] {}\".format(i+1, tfidf.get_feature_names()[idx]), end=\" \"*2)"
   ]
  },
  {
   "cell_type": "code",
   "execution_count": null,
   "metadata": {
    "collapsed": true
   },
   "outputs": [],
   "source": [
    "plt.plot(np.sort(np.array(np.log(tfidf_train.sum(axis=0)))[0])[::-1][:1000])"
   ]
  },
  {
   "cell_type": "code",
   "execution_count": null,
   "metadata": {
    "collapsed": true,
    "scrolled": true
   },
   "outputs": [],
   "source": [
    "#tfidf_train[0,1]\n",
    "pd.DataFrame(tfidf_train.sum(axis=0))"
   ]
  },
  {
   "cell_type": "code",
   "execution_count": null,
   "metadata": {
    "collapsed": true
   },
   "outputs": [],
   "source": [
    "pd.DataFrame(tfidf_train.sum(axis=0)).hist()"
   ]
  },
  {
   "cell_type": "markdown",
   "metadata": {},
   "source": [
    "##  Text Data Preprocessing"
   ]
  },
  {
   "cell_type": "markdown",
   "metadata": {},
   "source": [
    "Create list of unique `Gene` and `Variation` values that are in the training and test sets. This will be used for text preprocessing."
   ]
  },
  {
   "cell_type": "code",
   "execution_count": 21,
   "metadata": {},
   "outputs": [
    {
     "data": {
      "text/plain": [
       "10116"
      ]
     },
     "execution_count": 21,
     "metadata": {},
     "output_type": "execute_result"
    }
   ],
   "source": [
    "corpus_obj = [\n",
    "    X_train['Gene'],\n",
    "    X_train['Variation'],\n",
    "    X_test['Gene'],\n",
    "    X_test['Variation']\n",
    "]\n",
    "\n",
    "tt_corpus = []\n",
    "[tt_corpus.extend(df.values.tolist()) for df in corpus_obj]\n",
    "tt_corpus = pd.Series(tt_corpus)\n",
    "tt_corpus = [s.lower() for s in list(tt_corpus.unique())]\n",
    "len(tt_corpus)"
   ]
  },
  {
   "cell_type": "markdown",
   "metadata": {},
   "source": [
    "We would like to correct our text for tokens that appear as different due to text formatting of things like citations. Ideally, we would compare our features to a dictionary list that contains common terms for the domain of genomics research. Using just the list created from the `Gene` and ` Variation` data, we are at risk of missing important tokens that might be related, or not in the observations.\n",
    "\n",
    "One example, is `p16ink4a`, which was one of the highest predictors for tfidf, but does not appear in our list of terms. "
   ]
  },
  {
   "cell_type": "code",
   "execution_count": 46,
   "metadata": {},
   "outputs": [
    {
     "data": {
      "text/plain": [
       "'p16ink4a'"
      ]
     },
     "execution_count": 46,
     "metadata": {},
     "output_type": "execute_result"
    }
   ],
   "source": [
    "str_x = \"p16ink4a\"\n",
    "if str_x.lower() not in tt_corpus:\n",
    "    str_x = re.sub(r'^[^a-zA-z]*|[^a-zA-Z]*$', \"\", str_x, 0)\n",
    "str_x"
   ]
  },
  {
   "cell_type": "code",
   "execution_count": 183,
   "metadata": {},
   "outputs": [
    {
     "data": {
      "text/plain": [
       "[('l155h', 4413),\n",
       " ('pkhd1', 6115),\n",
       " ('y570h', 9994),\n",
       " ('nipa1', 5536),\n",
       " ('s1297del', 7950),\n",
       " ('r299h', 7058),\n",
       " ('r216c', 6832),\n",
       " ('r108l', 6441),\n",
       " ('chst3', 1119),\n",
       " ('y514c', 9977),\n",
       " ('bbs9', 662),\n",
       " ('y599_d600inseyeyeyey', 10002),\n",
       " ('t14p', 8627),\n",
       " ('w372s', 9647),\n",
       " ('cyp21a2', 1193),\n",
       " ('s199c', 8047),\n",
       " ('y374c', 9923),\n",
       " ('t599_v600insv', 8882),\n",
       " ('y568_l576delinsvn', 9993),\n",
       " ('r69c', 7610)]"
      ]
     },
     "execution_count": 183,
     "metadata": {},
     "output_type": "execute_result"
    }
   ],
   "source": [
    "cv_gene = CountVectorizer(lowercase=True, ngram_range=(1,1))\n",
    "cv_gene.fit(tt_corpus)\n",
    "list(islice(cv_gene.vocabulary_.items(), 20))"
   ]
  },
  {
   "cell_type": "markdown",
   "metadata": {},
   "source": [
    "** Custom Preprocessing**"
   ]
  },
  {
   "cell_type": "code",
   "execution_count": 22,
   "metadata": {
    "collapsed": true
   },
   "outputs": [],
   "source": [
    "sw = stopwords\n",
    "stopwrds = sw.words('english')"
   ]
  },
  {
   "cell_type": "code",
   "execution_count": 23,
   "metadata": {
    "collapsed": true
   },
   "outputs": [],
   "source": [
    "def text_preprocessor(s, action=1):\n",
    "    \n",
    "    # lowercase (this is already defaulted in Count Vectorizer)\n",
    "    s = s.lower()\n",
    "    \n",
    "    # Regex functions\n",
    "    def regexer(s, keep=None):\n",
    "        \n",
    "        # remove numbers at end of words that might be citations or other misleading modifiers\n",
    "        if keep == \"no_citations\":\n",
    "            if s.lower() not in tt_corpus:\n",
    "                regex = r\"^[^a-zA-z]*|[^a-zA-Z]*$\"\n",
    "                \n",
    "        # remove all numbers in words that might be citations or other misleading modifiers\n",
    "        if keep == \"no_numbers\":\n",
    "            if s.lower() not in tt_corpus:\n",
    "                regex = r\"[^a-zA-Z ]\"\n",
    "            \n",
    "        # Apply Regex transformation\n",
    "        s = re.sub(regex, \"\", s, 0)\n",
    "        return s\n",
    "    \n",
    "    # Remove stop words\n",
    "    def stopwords(s):\n",
    "        \n",
    "        # Use nltk function for tokenization\n",
    "        tokens = word_tokenize(s) \n",
    "        \n",
    "        # Get stopwords list from nltk.corpus and remove words in the list\n",
    "        s_bin = [w for w in tokens if not w in stopwrds]\n",
    "        s = ' '.join(s_bin)\n",
    "        return s\n",
    "    \n",
    "    # Lemmatize or stem function\n",
    "    def lemmatize(s, func=\"stem\"):\n",
    "        # Split string into individual tokens\n",
    "        tokens = word_tokenize(s) \n",
    "        s_bin = []\n",
    "        \n",
    "        # Stem tokens\n",
    "        if func == \"stem\":\n",
    "            fn = PorterStemmer().stem\n",
    "        # Lemmatization\n",
    "        if func == \"lemma\":\n",
    "            fn = WordNetLemmatizer().lemmatize\n",
    "        \n",
    "        for t in tokens:\n",
    "            s_bin.append(fn(t))\n",
    "        s = ' '.join(s_bin)\n",
    "        return s\n",
    "    \n",
    "    # Select transformation based on `action` parameter\n",
    "    if 0 in action:\n",
    "        s = regexer(s, keep=\"no_citations\")\n",
    "    if 1 in action:\n",
    "        s = regexer(s, keep=\"no_numbers\")\n",
    "    if 2 in action:\n",
    "        s = stopwords(s)\n",
    "    if 3 in action:\n",
    "        s = lemmatize(s, \"lemma\")\n",
    "    if 4 in action:\n",
    "        s = lemmatize(s, \"stem\")\n",
    "\n",
    "    return s"
   ]
  },
  {
   "cell_type": "code",
   "execution_count": 201,
   "metadata": {
    "scrolled": false
   },
   "outputs": [
    {
     "data": {
      "text/plain": [
       "CountVectorizer(analyzer='word', binary=False, decode_error='strict',\n",
       "        dtype=<class 'numpy.int64'>, encoding='utf-8', input='content',\n",
       "        lowercase=True, max_df=0.1, max_features=None, min_df=1,\n",
       "        ngram_range=(1, 2),\n",
       "        preprocessor=<function <lambda> at 0x14cd481e0>,\n",
       "        stop_words='english', strip_accents=None,\n",
       "        token_pattern='(?u)\\\\b\\\\w\\\\w+\\\\b', tokenizer=None, vocabulary=None)"
      ]
     },
     "execution_count": 201,
     "metadata": {},
     "output_type": "execute_result"
    }
   ],
   "source": [
    "cv = CountVectorizer(preprocessor=lambda x: text_preprocessor(x, action=[0, 2, 3]), \n",
    "                     lowercase=True, \n",
    "                     stop_words='english', \n",
    "                     min_df=1, \n",
    "                     max_df=.1, \n",
    "                     ngram_range=(1,2))\n",
    "cv"
   ]
  },
  {
   "cell_type": "code",
   "execution_count": 204,
   "metadata": {
    "collapsed": true
   },
   "outputs": [],
   "source": [
    "cv_train_mini = cv.fit_transform(corpus_train_mini)\n",
    "cv_dev_mini = cv.transform(corpus_dev_mini)"
   ]
  },
  {
   "cell_type": "code",
   "execution_count": 22,
   "metadata": {
    "collapsed": true
   },
   "outputs": [],
   "source": [
    "train_cv = cv.fit_transform(corpus_train)"
   ]
  },
  {
   "cell_type": "code",
   "execution_count": 23,
   "metadata": {
    "collapsed": true
   },
   "outputs": [],
   "source": [
    "test_cv = cv.transform(corpus_test)"
   ]
  },
  {
   "cell_type": "markdown",
   "metadata": {},
   "source": [
    "Some sample bigrams from the count vectorizer show terms that intuitively seem to be relevant to determining the class of gene-variant pairings. For example, `methylation mutational` describes the process of methylation, which regulates gene expression, and the pairing with `mutational` provides context. `resistance clinical` seems important in the context of gene pairings, as well as `site frequency`. "
   ]
  },
  {
   "cell_type": "code",
   "execution_count": 200,
   "metadata": {
    "scrolled": true
   },
   "outputs": [
    {
     "data": {
      "text/plain": [
       "[('128 MN1', 37587),\n",
       " ('problem genetic', 2394330),\n",
       " ('size inversely', 2649165),\n",
       " ('Invitrogen catalog', 669650),\n",
       " ('methylation mutational', 2115605),\n",
       " ('hotspot SNPs', 1850576),\n",
       " ('Endogenous MyD88', 500475),\n",
       " ('supplement 1B', 2732633),\n",
       " ('Recently NUP98', 921101),\n",
       " ('phase data', 2322665),\n",
       " ('resistance clinical', 2533397),\n",
       " ('site frequency', 2646231),\n",
       " ('underline 712', 2843950),\n",
       " ('pGBT9 TRP1', 2276264),\n",
       " ('Fgfr3 Viable', 533516),\n",
       " ('pY869 detected', 2282312),\n",
       " ('665752 JNJ38877605', 225464),\n",
       " ('Research Inc', 926139),\n",
       " ('key advance', 1985754),\n",
       " ('site Their', 2645338)]"
      ]
     },
     "execution_count": 200,
     "metadata": {},
     "output_type": "execute_result"
    }
   ],
   "source": [
    "# Sample bi-grams\n",
    "list(islice(cv.vocabulary_.items(), 20))"
   ]
  },
  {
   "cell_type": "markdown",
   "metadata": {},
   "source": [
    "Tri-grams might also be relevant, and there are some examples below, but due to computational limitations, using CountVectorizer or TFIDF with a range of 1-3 doesn't seem possible without moving this analysis to a cloud computing platform. Even when selecting for only 10% of the possible vocabulary, the number of features grows to over 20 million when tokenizing with `range(1,3)`."
   ]
  },
  {
   "cell_type": "code",
   "execution_count": 29,
   "metadata": {},
   "outputs": [
    {
     "data": {
      "text/plain": [
       "[('day 43 005', 2358384),\n",
       " ('differently result combined', 2583154),\n",
       " ('man 191100 clinical', 4757053),\n",
       " ('ssa hdr', 7250466),\n",
       " ('10 dl hematocrit', 37545),\n",
       " ('medulloblastomas 68 demonstrated', 4851125),\n",
       " ('functioning different pathway', 3452747),\n",
       " ('analtech newark developed', 1070313),\n",
       " ('rasq61r control', 6362798),\n",
       " ('tumor tissue sts', 7876878),\n",
       " ('nk granulo monocytic', 5343760),\n",
       " ('block cdh1', 1433634),\n",
       " ('vivo study pk', 8146749),\n",
       " ('containing p53 dna', 2137352),\n",
       " ('deficiency promotes differentiated', 2392257),\n",
       " ('pvhl213 lysine', 6268396),\n",
       " ('project bi78d3 santa', 6135025),\n",
       " ('counted study property', 2214788),\n",
       " ('hdmec hemec transfected', 3747309),\n",
       " ('amplification 11q22 subgroup', 1054921)]"
      ]
     },
     "execution_count": 29,
     "metadata": {},
     "output_type": "execute_result"
    }
   ],
   "source": [
    "# Sample tri-grams\n",
    "list(islice(cv.vocabulary_.items(), 20))"
   ]
  },
  {
   "cell_type": "code",
   "execution_count": 25,
   "metadata": {},
   "outputs": [
    {
     "name": "stdout",
     "output_type": "stream",
     "text": [
      "sparse matrix shape: (3321, 2690998)\n",
      "nonzero count: 15229698\n",
      "sparsity: 0.17\n"
     ]
    }
   ],
   "source": [
    "len(cv.vocabulary_)\n",
    "print('sparse matrix shape: {}'.format(train_cv.shape))\n",
    "print('nonzero count: {}'.format(train_cv.nnz))\n",
    "print('sparsity: {:.2f}'.format((100.0 * train_cv.nnz / (train_cv.shape[0] * train_cv.shape[1]))))"
   ]
  },
  {
   "cell_type": "code",
   "execution_count": 30,
   "metadata": {
    "scrolled": true
   },
   "outputs": [
    {
     "name": "stdout",
     "output_type": "stream",
     "text": [
      "sparse matrix shape: (3321, 8277612)\n",
      "nonzero count: 33126986\n",
      "sparsity: 0.12\n"
     ]
    }
   ],
   "source": [
    "len(cv.vocabulary_)\n",
    "print('sparse matrix shape: {}'.format(train_cv.shape))\n",
    "print('nonzero count: {}'.format(train_cv.nnz))\n",
    "print('sparsity: {:.2f}'.format((100.0 * train_cv.nnz / (train_cv.shape[0] * train_cv.shape[1]))))"
   ]
  },
  {
   "cell_type": "code",
   "execution_count": 26,
   "metadata": {},
   "outputs": [
    {
     "data": {
      "text/html": [
       "<div>\n",
       "<style>\n",
       "    .dataframe thead tr:only-child th {\n",
       "        text-align: right;\n",
       "    }\n",
       "\n",
       "    .dataframe thead th {\n",
       "        text-align: left;\n",
       "    }\n",
       "\n",
       "    .dataframe tbody tr th {\n",
       "        vertical-align: top;\n",
       "    }\n",
       "</style>\n",
       "<table border=\"1\" class=\"dataframe\">\n",
       "  <thead>\n",
       "    <tr style=\"text-align: right;\">\n",
       "      <th></th>\n",
       "      <th>occurrences</th>\n",
       "      <th>term</th>\n",
       "    </tr>\n",
       "  </thead>\n",
       "  <tbody>\n",
       "    <tr>\n",
       "      <th>2645842</th>\n",
       "      <td>13532</td>\n",
       "      <td>vus</td>\n",
       "    </tr>\n",
       "    <tr>\n",
       "      <th>1874194</th>\n",
       "      <td>12129</td>\n",
       "      <td>pdgfra</td>\n",
       "    </tr>\n",
       "    <tr>\n",
       "      <th>1753241</th>\n",
       "      <td>11573</td>\n",
       "      <td>notch</td>\n",
       "    </tr>\n",
       "    <tr>\n",
       "      <th>2546317</th>\n",
       "      <td>11073</td>\n",
       "      <td>tsc2</td>\n",
       "    </tr>\n",
       "    <tr>\n",
       "      <th>1179301</th>\n",
       "      <td>11056</td>\n",
       "      <td>gist</td>\n",
       "    </tr>\n",
       "    <tr>\n",
       "      <th>2326362</th>\n",
       "      <td>10944</td>\n",
       "      <td>smad4</td>\n",
       "    </tr>\n",
       "    <tr>\n",
       "      <th>410356</th>\n",
       "      <td>10589</td>\n",
       "      <td>ar</td>\n",
       "    </tr>\n",
       "    <tr>\n",
       "      <th>2354408</th>\n",
       "      <td>10078</td>\n",
       "      <td>spop</td>\n",
       "    </tr>\n",
       "    <tr>\n",
       "      <th>1760727</th>\n",
       "      <td>9014</td>\n",
       "      <td>nrf2</td>\n",
       "    </tr>\n",
       "    <tr>\n",
       "      <th>2324983</th>\n",
       "      <td>8603</td>\n",
       "      <td>smad2</td>\n",
       "    </tr>\n",
       "    <tr>\n",
       "      <th>747697</th>\n",
       "      <td>8522</td>\n",
       "      <td>crizotinib</td>\n",
       "    </tr>\n",
       "    <tr>\n",
       "      <th>2325665</th>\n",
       "      <td>8456</td>\n",
       "      <td>smad3</td>\n",
       "    </tr>\n",
       "    <tr>\n",
       "      <th>1426972</th>\n",
       "      <td>8202</td>\n",
       "      <td>jak2</td>\n",
       "    </tr>\n",
       "    <tr>\n",
       "      <th>1073212</th>\n",
       "      <td>7350</td>\n",
       "      <td>fgfr2</td>\n",
       "    </tr>\n",
       "    <tr>\n",
       "      <th>569909</th>\n",
       "      <td>7301</td>\n",
       "      <td>cbl</td>\n",
       "    </tr>\n",
       "    <tr>\n",
       "      <th>2545863</th>\n",
       "      <td>6955</td>\n",
       "      <td>tsc1</td>\n",
       "    </tr>\n",
       "    <tr>\n",
       "      <th>564333</th>\n",
       "      <td>6804</td>\n",
       "      <td>catenin</td>\n",
       "    </tr>\n",
       "    <tr>\n",
       "      <th>2177510</th>\n",
       "      <td>6632</td>\n",
       "      <td>ret</td>\n",
       "    </tr>\n",
       "    <tr>\n",
       "      <th>1733203</th>\n",
       "      <td>6601</td>\n",
       "      <td>nf1</td>\n",
       "    </tr>\n",
       "    <tr>\n",
       "      <th>1753592</th>\n",
       "      <td>6349</td>\n",
       "      <td>notch1</td>\n",
       "    </tr>\n",
       "  </tbody>\n",
       "</table>\n",
       "</div>"
      ],
      "text/plain": [
       "         occurrences        term\n",
       "2645842        13532         vus\n",
       "1874194        12129      pdgfra\n",
       "1753241        11573       notch\n",
       "2546317        11073        tsc2\n",
       "1179301        11056        gist\n",
       "2326362        10944       smad4\n",
       "410356         10589          ar\n",
       "2354408        10078        spop\n",
       "1760727         9014        nrf2\n",
       "2324983         8603       smad2\n",
       "747697          8522  crizotinib\n",
       "2325665         8456       smad3\n",
       "1426972         8202        jak2\n",
       "1073212         7350       fgfr2\n",
       "569909          7301         cbl\n",
       "2545863         6955        tsc1\n",
       "564333          6804     catenin\n",
       "2177510         6632         ret\n",
       "1733203         6601         nf1\n",
       "1753592         6349      notch1"
      ]
     },
     "execution_count": 26,
     "metadata": {},
     "output_type": "execute_result"
    }
   ],
   "source": [
    "occ = np.asarray(train_cv.sum(axis=0)).ravel().tolist()\n",
    "counts_df = pd.DataFrame({'term': cv.get_feature_names(), 'occurrences': occ})\n",
    "counts_df.sort_values(by='occurrences', ascending=False).head(20)"
   ]
  },
  {
   "cell_type": "code",
   "execution_count": 27,
   "metadata": {},
   "outputs": [
    {
     "data": {
      "text/html": [
       "<div>\n",
       "<style>\n",
       "    .dataframe thead tr:only-child th {\n",
       "        text-align: right;\n",
       "    }\n",
       "\n",
       "    .dataframe thead th {\n",
       "        text-align: left;\n",
       "    }\n",
       "\n",
       "    .dataframe tbody tr th {\n",
       "        vertical-align: top;\n",
       "    }\n",
       "</style>\n",
       "<table border=\"1\" class=\"dataframe\">\n",
       "  <thead>\n",
       "    <tr style=\"text-align: right;\">\n",
       "      <th></th>\n",
       "      <th>occurrences</th>\n",
       "      <th>term</th>\n",
       "    </tr>\n",
       "  </thead>\n",
       "  <tbody>\n",
       "    <tr>\n",
       "      <th>481169</th>\n",
       "      <td>1</td>\n",
       "      <td>bgj398 patient</td>\n",
       "    </tr>\n",
       "    <tr>\n",
       "      <th>1844442</th>\n",
       "      <td>1</td>\n",
       "      <td>parameter malignant</td>\n",
       "    </tr>\n",
       "    <tr>\n",
       "      <th>827008</th>\n",
       "      <td>1</td>\n",
       "      <td>described hepatocellular</td>\n",
       "    </tr>\n",
       "    <tr>\n",
       "      <th>481156</th>\n",
       "      <td>1</td>\n",
       "      <td>bgj398 crc334</td>\n",
       "    </tr>\n",
       "    <tr>\n",
       "      <th>1249173</th>\n",
       "      <td>1</td>\n",
       "      <td>hinted egfrviii</td>\n",
       "    </tr>\n",
       "    <tr>\n",
       "      <th>1844460</th>\n",
       "      <td>1</td>\n",
       "      <td>parameter modulating</td>\n",
       "    </tr>\n",
       "    <tr>\n",
       "      <th>481144</th>\n",
       "      <td>1</td>\n",
       "      <td>bgiii sensitive</td>\n",
       "    </tr>\n",
       "    <tr>\n",
       "      <th>1844458</th>\n",
       "      <td>1</td>\n",
       "      <td>parameter mm</td>\n",
       "    </tr>\n",
       "    <tr>\n",
       "      <th>1844457</th>\n",
       "      <td>1</td>\n",
       "      <td>parameter mlh1</td>\n",
       "    </tr>\n",
       "    <tr>\n",
       "      <th>1844456</th>\n",
       "      <td>1</td>\n",
       "      <td>parameter minimum</td>\n",
       "    </tr>\n",
       "    <tr>\n",
       "      <th>1844454</th>\n",
       "      <td>1</td>\n",
       "      <td>parameter mg</td>\n",
       "    </tr>\n",
       "    <tr>\n",
       "      <th>1844452</th>\n",
       "      <td>1</td>\n",
       "      <td>parameter method</td>\n",
       "    </tr>\n",
       "    <tr>\n",
       "      <th>481154</th>\n",
       "      <td>1</td>\n",
       "      <td>bgj398 cetuximab</td>\n",
       "    </tr>\n",
       "    <tr>\n",
       "      <th>1844451</th>\n",
       "      <td>1</td>\n",
       "      <td>parameter metacore</td>\n",
       "    </tr>\n",
       "    <tr>\n",
       "      <th>1844450</th>\n",
       "      <td>1</td>\n",
       "      <td>parameter mentioned</td>\n",
       "    </tr>\n",
       "    <tr>\n",
       "      <th>1249174</th>\n",
       "      <td>1</td>\n",
       "      <td>hinted greater</td>\n",
       "    </tr>\n",
       "    <tr>\n",
       "      <th>1249175</th>\n",
       "      <td>1</td>\n",
       "      <td>hinted her2</td>\n",
       "    </tr>\n",
       "    <tr>\n",
       "      <th>481152</th>\n",
       "      <td>1</td>\n",
       "      <td>bgj398 86</td>\n",
       "    </tr>\n",
       "    <tr>\n",
       "      <th>1844446</th>\n",
       "      <td>1</td>\n",
       "      <td>parameter measurable</td>\n",
       "    </tr>\n",
       "    <tr>\n",
       "      <th>1345499</th>\n",
       "      <td>1</td>\n",
       "      <td>indeterminate altered</td>\n",
       "    </tr>\n",
       "  </tbody>\n",
       "</table>\n",
       "</div>"
      ],
      "text/plain": [
       "         occurrences                      term\n",
       "481169             1            bgj398 patient\n",
       "1844442            1       parameter malignant\n",
       "827008             1  described hepatocellular\n",
       "481156             1             bgj398 crc334\n",
       "1249173            1           hinted egfrviii\n",
       "1844460            1      parameter modulating\n",
       "481144             1           bgiii sensitive\n",
       "1844458            1              parameter mm\n",
       "1844457            1            parameter mlh1\n",
       "1844456            1         parameter minimum\n",
       "1844454            1              parameter mg\n",
       "1844452            1          parameter method\n",
       "481154             1          bgj398 cetuximab\n",
       "1844451            1        parameter metacore\n",
       "1844450            1       parameter mentioned\n",
       "1249174            1            hinted greater\n",
       "1249175            1               hinted her2\n",
       "481152             1                 bgj398 86\n",
       "1844446            1      parameter measurable\n",
       "1345499            1     indeterminate altered"
      ]
     },
     "execution_count": 27,
     "metadata": {},
     "output_type": "execute_result"
    }
   ],
   "source": [
    "counts_df.sort_values(by='occurrences', ascending=False).tail(20)"
   ]
  },
  {
   "cell_type": "code",
   "execution_count": 24,
   "metadata": {
    "collapsed": true
   },
   "outputs": [],
   "source": [
    "def tfidf_fn(X, Y, ngrams=1, mn=1, mx=0.1, test_transform=False, plotting=False):\n",
    "    t = time.time()\n",
    "    tfidf = TfidfVectorizer(stop_words = 'english', \n",
    "                            ngram_range=(1, ngrams), \n",
    "                            sublinear_tf=True, \n",
    "                            use_idf=True, \n",
    "                            preprocessor=lambda x: text_preprocessor(x, action=[0, 2, 3]), \n",
    "                            lowercase=True, \n",
    "                            min_df=mn, \n",
    "                            max_df=mx)\n",
    "    print(\"Beginning tf-idf on training data\", end=\"\\r\")\n",
    "    tfidf_train = tfidf.fit_transform(X)\n",
    "    print(print_op_str(\"train\").format(time.time()-t), end=\"\\r\")\n",
    "    \n",
    "    if test_transform == True:\n",
    "        print(\"Beginning tf-idf on test data\", end=\"\\r\")\n",
    "        tfidf_test = tfidf.transform(Y)\n",
    "        print(print_op_str(\"test\").format(time.time()-t), end=\"\\r\")\n",
    "        print_blank(len(print_op_str(\"test\")))\n",
    "    else:\n",
    "        tfidf_test = sps.csr_matrix((1,1))\n",
    "        print_blank(len(print_op_str(\"train\")))\n",
    "    \n",
    "    print_op = \"Shape: {}\\nNon-zero mean: {}\\nNon-zero median: {}\"\n",
    "    mean_nnz = int(round(np.mean(tfidf_train.getnnz(1))))\n",
    "    median_nnz = int(round(np.median(tfidf_train.getnnz(1))))\n",
    "    print(print_op.format(tfidf_train.shape, mean_nnz,median_nnz))\n",
    "    print(\"\\nDone in {:.2f} seconds\".format(time.time()-t))\n",
    "    \n",
    "    if plotting == True:     \n",
    "        fig, ax = plt.subplots(figsize=(12, 6))\n",
    "        plt.plot(np.sort(tfidf_train.getnnz(1))[::-1])\n",
    "\n",
    "        # Log transformed\n",
    "        plt.figure(figsize=(12,6))\n",
    "        plt.plot(np.sort(np.log(tfidf_train.getnnz(1)))[::-1])\n",
    "        \n",
    "    return tfidf, tfidf_train, tfidf_test"
   ]
  },
  {
   "cell_type": "code",
   "execution_count": 65,
   "metadata": {},
   "outputs": [
    {
     "name": "stdout",
     "output_type": "stream",
     "text": [
      "Shape: (166, 31358)                        \n",
      "Non-zero mean: 478\n",
      "Non-zero median: 394\n",
      "\n",
      "Done in 81.18 seconds\n"
     ]
    }
   ],
   "source": [
    "tf_mini, tf_train_mini, tf_dev_mini = tfidf_fn(corpus_train_mini, \n",
    "                                                corpus_dev_mini, \n",
    "                                                ngrams=1, \n",
    "                                                mn=1, \n",
    "                                                mx=0.1, \n",
    "                                                test_transform=True, \n",
    "                                                plotting=False)"
   ]
  },
  {
   "cell_type": "code",
   "execution_count": 135,
   "metadata": {
    "scrolled": true
   },
   "outputs": [
    {
     "data": {
      "text/html": [
       "<div>\n",
       "<style>\n",
       "    .dataframe thead tr:only-child th {\n",
       "        text-align: right;\n",
       "    }\n",
       "\n",
       "    .dataframe thead th {\n",
       "        text-align: left;\n",
       "    }\n",
       "\n",
       "    .dataframe tbody tr th {\n",
       "        vertical-align: top;\n",
       "    }\n",
       "</style>\n",
       "<table border=\"1\" class=\"dataframe\">\n",
       "  <thead>\n",
       "    <tr style=\"text-align: right;\">\n",
       "      <th></th>\n",
       "      <th>occurrences</th>\n",
       "      <th>term</th>\n",
       "    </tr>\n",
       "  </thead>\n",
       "  <tbody>\n",
       "    <tr>\n",
       "      <th>34791</th>\n",
       "      <td>1.558993</td>\n",
       "      <td>vus</td>\n",
       "    </tr>\n",
       "    <tr>\n",
       "      <th>19955</th>\n",
       "      <td>1.315848</td>\n",
       "      <td>l858r</td>\n",
       "    </tr>\n",
       "    <tr>\n",
       "      <th>31120</th>\n",
       "      <td>1.314083</td>\n",
       "      <td>stat5</td>\n",
       "    </tr>\n",
       "    <tr>\n",
       "      <th>15606</th>\n",
       "      <td>1.272930</td>\n",
       "      <td>gist</td>\n",
       "    </tr>\n",
       "    <tr>\n",
       "      <th>24631</th>\n",
       "      <td>1.190774</td>\n",
       "      <td>p110α</td>\n",
       "    </tr>\n",
       "    <tr>\n",
       "      <th>25284</th>\n",
       "      <td>1.139664</td>\n",
       "      <td>pdgfra</td>\n",
       "    </tr>\n",
       "    <tr>\n",
       "      <th>30669</th>\n",
       "      <td>1.104860</td>\n",
       "      <td>smad4</td>\n",
       "    </tr>\n",
       "    <tr>\n",
       "      <th>7597</th>\n",
       "      <td>1.079173</td>\n",
       "      <td>brca</td>\n",
       "    </tr>\n",
       "    <tr>\n",
       "      <th>10394</th>\n",
       "      <td>1.026186</td>\n",
       "      <td>crizotinib</td>\n",
       "    </tr>\n",
       "    <tr>\n",
       "      <th>21587</th>\n",
       "      <td>1.024441</td>\n",
       "      <td>mek2</td>\n",
       "    </tr>\n",
       "    <tr>\n",
       "      <th>11142</th>\n",
       "      <td>1.019304</td>\n",
       "      <td>dasatinib</td>\n",
       "    </tr>\n",
       "    <tr>\n",
       "      <th>8511</th>\n",
       "      <td>1.012527</td>\n",
       "      <td>causality</td>\n",
       "    </tr>\n",
       "    <tr>\n",
       "      <th>30665</th>\n",
       "      <td>1.008039</td>\n",
       "      <td>smad2</td>\n",
       "    </tr>\n",
       "    <tr>\n",
       "      <th>8932</th>\n",
       "      <td>0.969727</td>\n",
       "      <td>cfc</td>\n",
       "    </tr>\n",
       "    <tr>\n",
       "      <th>7609</th>\n",
       "      <td>0.945359</td>\n",
       "      <td>brct</td>\n",
       "    </tr>\n",
       "    <tr>\n",
       "      <th>30662</th>\n",
       "      <td>0.936103</td>\n",
       "      <td>smad</td>\n",
       "    </tr>\n",
       "    <tr>\n",
       "      <th>5931</th>\n",
       "      <td>0.914855</td>\n",
       "      <td>appendix</td>\n",
       "    </tr>\n",
       "    <tr>\n",
       "      <th>22251</th>\n",
       "      <td>0.907693</td>\n",
       "      <td>mmr</td>\n",
       "    </tr>\n",
       "    <tr>\n",
       "      <th>8753</th>\n",
       "      <td>0.903591</td>\n",
       "      <td>cdk4</td>\n",
       "    </tr>\n",
       "    <tr>\n",
       "      <th>11183</th>\n",
       "      <td>0.897954</td>\n",
       "      <td>dbd</td>\n",
       "    </tr>\n",
       "  </tbody>\n",
       "</table>\n",
       "</div>"
      ],
      "text/plain": [
       "       occurrences        term\n",
       "34791     1.558993         vus\n",
       "19955     1.315848       l858r\n",
       "31120     1.314083       stat5\n",
       "15606     1.272930        gist\n",
       "24631     1.190774       p110α\n",
       "25284     1.139664      pdgfra\n",
       "30669     1.104860       smad4\n",
       "7597      1.079173        brca\n",
       "10394     1.026186  crizotinib\n",
       "21587     1.024441        mek2\n",
       "11142     1.019304   dasatinib\n",
       "8511      1.012527   causality\n",
       "30665     1.008039       smad2\n",
       "8932      0.969727         cfc\n",
       "7609      0.945359        brct\n",
       "30662     0.936103        smad\n",
       "5931      0.914855    appendix\n",
       "22251     0.907693         mmr\n",
       "8753      0.903591        cdk4\n",
       "11183     0.897954         dbd"
      ]
     },
     "execution_count": 135,
     "metadata": {},
     "output_type": "execute_result"
    }
   ],
   "source": [
    "occ = np.asarray(tf_train_mini.sum(axis=0)).ravel().tolist()\n",
    "comp_df = pd.DataFrame({'term': tf_mini.get_feature_names(), 'occurrences': occ})\n",
    "comp_df.sort_values(by='occurrences', ascending=False).head(20)"
   ]
  },
  {
   "cell_type": "markdown",
   "metadata": {},
   "source": [
    "## Dimensionality Reduction"
   ]
  },
  {
   "cell_type": "markdown",
   "metadata": {},
   "source": [
    "### Mini data set"
   ]
  },
  {
   "cell_type": "code",
   "execution_count": 25,
   "metadata": {
    "collapsed": true
   },
   "outputs": [],
   "source": [
    "def svd_metrics(s, n):\n",
    "    explained_variance = s.explained_variance_ratio_.sum()\n",
    "    #     print_op = \"Explained variance of SVD with {} features: {}%\"\n",
    "    #     print(print_op.format(n, int(explained_variance * 100)))\n",
    "    return explained_variance"
   ]
  },
  {
   "cell_type": "code",
   "execution_count": 26,
   "metadata": {
    "collapsed": true
   },
   "outputs": [],
   "source": [
    "def svd_fn(data_train, data_test=None, target=None, n_features=20, test_transform=False, plotting=False):\n",
    "    t = time.time()\n",
    "    print(\"Beginning svd on training data\", end=\"\\r\")\n",
    "    svd = TruncatedSVD(n_features, algorithm='arpack')\n",
    "    svd_train = svd.fit_transform(data_train)\n",
    "    print(print_op_str(\"train\").format(time.time()-t), end=\"\\r\")\n",
    "    \n",
    "    if test_transform == True:\n",
    "        print(\"Beginning svd on test data\", end=\"\\r\")\n",
    "        svd_test = svd.transform(data_test)\n",
    "        print(print_op_str(\"test\").format(time.time()-t), end=\"\\r\")\n",
    "        print_blank(len(print_op_str(\"test\")))\n",
    "    else:\n",
    "        svd_test = sps.csr_matrix((1,1))\n",
    "        print_blank(len(print_op_str(\"train\")))\n",
    "        \n",
    "    total_explained_variance = svd_metrics(svd, n_features)\n",
    "        \n",
    "    if plotting == True:\n",
    "        data2D_svd = svd_train\n",
    "        plt.scatter(data2D_svd[:,0], data2D_svd[:,1], c=target)\n",
    "        plt.show()  \n",
    "        \n",
    "    return svd, svd_train, svd_test, total_explained_variance"
   ]
  },
  {
   "cell_type": "code",
   "execution_count": 187,
   "metadata": {
    "collapsed": true
   },
   "outputs": [],
   "source": [
    "features_n_svd = 200"
   ]
  },
  {
   "cell_type": "code",
   "execution_count": 188,
   "metadata": {
    "scrolled": false
   },
   "outputs": [
    {
     "name": "stdout",
     "output_type": "stream",
     "text": [
      "Beginning svd on training data\r",
      "Done processing train data in 0.02 seconds\r",
      "                                            \r",
      "Explained variance of SVD with 2 features: 5%\n"
     ]
    }
   ],
   "source": [
    "svd_mini, svd_train_mini, svd_test_mini, tev_mini = svd_fn(tf_train_mini, \n",
    "                                                 tf_dev_mini, \n",
    "                                                 y_train_mini, \n",
    "                                                 features_n_svd, \n",
    "                                                 test_transform=False, \n",
    "                                                 plotting=False)"
   ]
  },
  {
   "cell_type": "code",
   "execution_count": 95,
   "metadata": {
    "collapsed": true
   },
   "outputs": [],
   "source": [
    "Vt = svd_mini.components_[:20, :]"
   ]
  },
  {
   "cell_type": "code",
   "execution_count": 108,
   "metadata": {
    "scrolled": false
   },
   "outputs": [
    {
     "data": {
      "text/plain": [
       "[<matplotlib.lines.Line2D at 0x147ee7c50>]"
      ]
     },
     "execution_count": 108,
     "metadata": {},
     "output_type": "execute_result"
    },
    {
     "data": {
      "image/png": "[encoded data removed]",
      "text/plain": [
       "<matplotlib.figure.Figure at 0x144c8f400>"
      ]
     },
     "metadata": {},
     "output_type": "display_data"
    }
   ],
   "source": [
    "plt.plot(svd_mini.explained_variance_)"
   ]
  },
  {
   "cell_type": "markdown",
   "metadata": {},
   "source": [
    "#### Analysis of SVD and hyperparameter search"
   ]
  },
  {
   "cell_type": "markdown",
   "metadata": {},
   "source": [
    "Because of the processing time necessary for preprocessing steps, we'll try to identify optimal values of hyperparameters by using smaller subsets of the the training data. We'll use a sampling method to randomly select (without replacement) from the training set to obtain samples that range in size from 4%-12% of the total data size, just to make sure the size of the samples doesn't impact the dimensionality reduction significantly."
   ]
  },
  {
   "cell_type": "code",
   "execution_count": 27,
   "metadata": {
    "collapsed": true
   },
   "outputs": [],
   "source": [
    "def svd_comp_analysis(cv_train_subset, n_comp, plotting=True, printout=False):\n",
    "\n",
    "    t0 = time.time()\n",
    "    \n",
    "    analysis = {}\n",
    "    params_svd = {'n_components': range(1,n_comp+1)}\n",
    "    for i, n in enumerate(params_svd['n_components']):\n",
    "        \n",
    "        config_n = i\n",
    "        config_params = {}\n",
    "        \n",
    "        message0 = \"SVD n_components: {}\".format(n)\n",
    "        if printout == True:\n",
    "            print(message0)\n",
    "    \n",
    "        # Apply SVD transformation\n",
    "        t1 = time.time()\n",
    "        message3 = \"\\tBeginning svd component: {}\".format(n)\n",
    "        \n",
    "        if printout == True:\n",
    "            print(message3, end=\"\\r\")\n",
    "            \n",
    "        svd = TruncatedSVD(n_components=n, algorithm='arpack')\n",
    "        svd.fit_transform(cv_train_subset)\n",
    "        config_params[\"explained_variance_ratio\"] = svd.explained_variance_ratio_\n",
    "              \n",
    "        if printout == True:\n",
    "            print(print_blank(len(message3)), end=\"\\r\")\n",
    "        message4 = \"\\tSVD done in {:.2f} seconds\".format(time.time() - t1)\n",
    "              \n",
    "        evar = svd_metrics(svd, n)\n",
    "        config_params[\"explained_variance\"] = evar\n",
    "              \n",
    "        analysis[config_n] = config_params\n",
    "        if printout == True:\n",
    "            print(\"\\t{} components completed in: {:.2f} seconds\".format(n, time.time()-t1))\n",
    "        message5 = \"{} components in {:.2f}(iter)/{:.2f}(total) secs\".format(n, time.time()-t1, time.time()-t0)\n",
    "        message6 = \"{} {}\".format(message5, \". \"*n)\n",
    "        print(message6, end=\"\\r\")\n",
    "    \n",
    "    print(print_blank(len(message6)), end=\"\\r\")\n",
    "    print(\"\\nTotal time to completion for {} components: {:.2f} seconds\".format(n_comp, time.time()-t0))\n",
    "    \n",
    "    return analysis"
   ]
  },
  {
   "cell_type": "code",
   "execution_count": 28,
   "metadata": {
    "collapsed": true
   },
   "outputs": [],
   "source": [
    "def svd_batch_analysis(n_epoch=1, n_comp=20, plotting=True):\n",
    "    t0 = time.time()\n",
    "    \n",
    "    if plotting == True:\n",
    "        fig, ax = plt.subplots()\n",
    "    \n",
    "    batch = {}\n",
    "    epochs = {'n_epoch': range(1,n_epoch+1)}\n",
    "    for i, n in enumerate(epochs['n_epoch']):\n",
    "        \n",
    "        t1 = time.time()\n",
    "        message0 = \"Epoch: {}\".format(n)\n",
    "        print(message0, end=\"\\r\")\n",
    "    \n",
    "        comp_results = {}\n",
    "        # create subset with `p_data` percent of training data in range(4,12)\n",
    "        p_data = np.random.randint(4, 12)/100\n",
    "        comp_results[\"p_data\"] = p_data\n",
    "        \n",
    "        # Create mini data sets for model building\n",
    "        train_subset = train.sample(frac=p_data)\n",
    "        y_train_subset = train_subset['Class'].values\n",
    "        X_train_subset = train_subset.drop('Class', axis=1)\n",
    "\n",
    "        # Create mini dev set for model building\n",
    "        dev_subset = train.sample(frac=p_data)\n",
    "        y_dev_subset = dev_subset['Class'].values\n",
    "        X_dev_subset = dev_subset.drop('Class', axis=1)\n",
    "        \n",
    "        corpus_train_subset = X_train_subset['Text']\n",
    "        corpus_dev_subset = X_dev_subset['Text']\n",
    "\n",
    "        comp_results[\"x_shape\"] = X_train_subset.shape\n",
    "    \n",
    "        # Apply tokenization\n",
    "        print(print_blank(len(message0)), end=\"\\r\")\n",
    "        message1 = \"Epoch: {} Applying tokenization...\".format(n)\n",
    "        print(message1, end=\"\\r\")\n",
    "              \n",
    "        cv = CountVectorizer(preprocessor=lambda x: text_preprocessor(x, action=[0, 2, 3]), \n",
    "                     lowercase=True, \n",
    "                     stop_words='english', \n",
    "                     min_df=1, \n",
    "                     max_df=.1, \n",
    "                     ngram_range=(1,2))\n",
    "        comp_results[\"count_vectorizer\"] = cv\n",
    "        \n",
    "        cv_train_subset = cv.fit_transform(corpus_train_subset)\n",
    "        #cv_dev_subset = cv.transform(corpus_dev_subset)\n",
    "              \n",
    "        print(print_blank(len(message1)), end=\"\\r\")\n",
    "        message2 = \"\\tTokenization done in {:.2f} seconds\".format(time.time() - t0)\n",
    "        print(message2, end=\"\\r\")\n",
    "        \n",
    "        # Number of components must be less than number of observations\n",
    "        if X_train_subset.shape[0] < n_comp:\n",
    "            n_comp = X_train_subset.shape[0]-1\n",
    "            \n",
    "        batch_analysis = svd_comp_analysis(cv_train_subset, n_comp, plotting)\n",
    "        comp_results[\"results\"] = batch_analysis\n",
    "        batch[i] = comp_results\n",
    "        \n",
    "        if plotting == True:\n",
    "            ax.plot(batch[i]['results'][n_comp-1]['explained_variance_ratio'])\n",
    "        \n",
    "        print(print_blank(len(message2)), end=\"\\r\")\n",
    "        print(\"Epoch {} completed in: {:.2f} seconds\".format(n, time.time()-t1))\n",
    "    \n",
    "    print(\"\\nTotal time to completion for {} epochs: {:.2f} seconds\".format(n_epoch, time.time()-t0))\n",
    "    \n",
    "    return batch"
   ]
  },
  {
   "cell_type": "code",
   "execution_count": 54,
   "metadata": {
    "scrolled": true
   },
   "outputs": [
    {
     "name": "stdout",
     "output_type": "stream",
     "text": [
      "None                                                                                                                                                                                       \n",
      "Total time to completion for 70 components: 242.61 seconds\n",
      "Epoch 1 completed in: 340.64 seconds\n",
      "None                                                                                                                                                                                      \n",
      "Total time to completion for 70 components: 60.97 seconds\n",
      "Epoch 2 completed in: 95.63 seconds \n",
      "\n",
      "Total time to completion for 2 epochs: 436.37 seconds\n"
     ]
    },
    {
     "data": {
      "image/png": "[encoded data removed]",
      "text/plain": [
       "<matplotlib.figure.Figure at 0x11f962710>"
      ]
     },
     "metadata": {},
     "output_type": "display_data"
    }
   ],
   "source": [
    "svd_comp0 = svd_batch_analysis(2, 70, plotting=True)"
   ]
  },
  {
   "cell_type": "code",
   "execution_count": 63,
   "metadata": {
    "scrolled": true
   },
   "outputs": [
    {
     "name": "stdout",
     "output_type": "stream",
     "text": [
      "None                                                                                                                                                                                       \n",
      "Total time to completion for 70 components: 312.05 seconds\n",
      "Epoch 1 completed in: 413.75 seconds\n",
      "None                                                                                                                                                                                       \n",
      "Total time to completion for 70 components: 270.86 seconds\n",
      "Epoch 2 completed in: 371.01 seconds\n",
      "None                                                                                                                                                                                       \n",
      "Total time to completion for 70 components: 183.55 seconds\n",
      "Epoch 3 completed in: 253.86 seconds\n",
      "None                                                                                                                                                                                       \n",
      "Total time to completion for 70 components: 197.14 seconds\n",
      "Epoch 4 completed in: 282.28 seconds \n",
      "None                                                                                                                                                                                       \n",
      "Total time to completion for 70 components: 197.08 seconds\n",
      "Epoch 5 completed in: 286.48 seconds \n",
      "None                                                                                                                                                                                      \n",
      "Total time to completion for 70 components: 87.12 seconds\n",
      "Epoch 6 completed in: 135.96 seconds \n",
      "None                                                                                                                                                                                      \n",
      "Total time to completion for 70 components: 84.82 seconds\n",
      "Epoch 7 completed in: 129.14 seconds \n",
      "None                                                                                                                                                                                       \n",
      "Total time to completion for 70 components: 104.60 seconds\n",
      "Epoch 8 completed in: 157.00 seconds \n",
      "\n",
      "Total time to completion for 8 epochs: 2029.55 seconds\n"
     ]
    },
    {
     "data": {
      "image/png": "[encoded data removed]",
      "text/plain": [
       "<matplotlib.figure.Figure at 0x16480d400>"
      ]
     },
     "metadata": {},
     "output_type": "display_data"
    }
   ],
   "source": [
    "svd_comp1 = svd_batch_analysis(8, 70, plotting=True)"
   ]
  },
  {
   "cell_type": "code",
   "execution_count": 90,
   "metadata": {
    "scrolled": true
   },
   "outputs": [
    {
     "data": {
      "text/plain": [
       "(10, 60)"
      ]
     },
     "execution_count": 90,
     "metadata": {},
     "output_type": "execute_result"
    },
    {
     "data": {
      "image/png": "[encoded data removed]",
      "text/plain": [
       "<matplotlib.figure.Figure at 0x19c0fe7f0>"
      ]
     },
     "metadata": {},
     "output_type": "display_data"
    }
   ],
   "source": [
    "fig, ax = plt.subplots()\n",
    "for i in range(len(svd_comp1)):\n",
    "    ax.plot(svd_comp1[i]['results'][len(svd_comp1[i]['results'])-1]['explained_variance_ratio'])\n",
    "plt.ylim([0, 0.03])\n",
    "plt.xlim([10,60])"
   ]
  },
  {
   "cell_type": "code",
   "execution_count": 82,
   "metadata": {},
   "outputs": [
    {
     "name": "stdout",
     "output_type": "stream",
     "text": [
      "[0.11, 0.1, 0.08, 0.09, 0.09, 0.05, 0.05, 0.06]\n",
      "0.07875\n"
     ]
    }
   ],
   "source": [
    "p_frac_comp1 = [svd_comp1[i]['p_data'] for i in range(len(svd_comp1))]\n",
    "print(p_frac_comp1)\n",
    "print(np.mean(p_frac_comp1))"
   ]
  },
  {
   "cell_type": "markdown",
   "metadata": {},
   "source": [
    "##### Sanity check performing same analysis on TF-IDF Vectorizer transformation"
   ]
  },
  {
   "cell_type": "code",
   "execution_count": 29,
   "metadata": {
    "collapsed": true
   },
   "outputs": [],
   "source": [
    "def svd2_batch_analysis(n_epoch=1, n_comp=20, plotting=True):\n",
    "    t0 = time.time()\n",
    "    \n",
    "    if plotting == True:\n",
    "        fig, ax = plt.subplots()\n",
    "    \n",
    "    batch = {}\n",
    "    epochs = {'n_epoch': range(1,n_epoch+1)}\n",
    "    for i, n in enumerate(epochs['n_epoch']):\n",
    "        \n",
    "        t1 = time.time()\n",
    "        message0 = \"Epoch: {}\".format(n)\n",
    "        print(message0, end=\"\\r\")\n",
    "    \n",
    "        comp_results = {}\n",
    "        # create subset with `p_data` percent of training data in range(4,12)\n",
    "        p_data = np.random.randint(4, 12)/100\n",
    "        comp_results[\"p_data\"] = p_data\n",
    "        \n",
    "        # Create mini data sets for model building\n",
    "        train_subset = train.sample(frac=p_data)\n",
    "        y_train_subset = train_subset['Class'].values\n",
    "        X_train_subset = train_subset.drop('Class', axis=1)\n",
    "\n",
    "        # Create mini dev set for model building\n",
    "        dev_subset = train.sample(frac=p_data)\n",
    "        y_dev_subset = dev_subset['Class'].values\n",
    "        X_dev_subset = dev_subset.drop('Class', axis=1)\n",
    "        \n",
    "        corpus_train_subset = X_train_subset['Text']\n",
    "        corpus_dev_subset = X_dev_subset['Text']\n",
    "\n",
    "        comp_results[\"x_shape\"] = X_train_subset.shape\n",
    "    \n",
    "        # 2. Apply tokenization\n",
    "        print(print_blank(len(message0)), end=\"\\r\")\n",
    "        message1 = \"Epoch: {} Applying tokenization...\".format(n)\n",
    "        print(message1, end=\"\\r\")\n",
    "        \n",
    "        tf, tf_train_subset, tf_dev_subset = tfidf_fn(corpus_train_subset, \n",
    "                                                corpus_dev_subset, \n",
    "                                                ngrams=2, \n",
    "                                                mn=1, \n",
    "                                                mx=0.1, \n",
    "                                                test_transform=True, \n",
    "                                                plotting=False)\n",
    "              \n",
    "        comp_results[\"tfidf_vectorizer\"] = tf_subset\n",
    "        \n",
    "        tf_train_subset = cv.fit_transform(corpus_train_subset)\n",
    "        #cv_dev_subset = cv.transform(corpus_dev_subset)\n",
    "              \n",
    "        print(print_blank(len(message1)), end=\"\\r\")\n",
    "        message2 = \"\\tTokenization done in {:.2f} seconds\".format(time.time() - t0)\n",
    "        print(message2, end=\"\\r\")\n",
    "        \n",
    "        # Number of components must be less than number of observations\n",
    "        if X_train_subset.shape[0] < n_comp:\n",
    "            n_comp = X_train_subset.shape[0]-1\n",
    "            \n",
    "        batch_analysis = svd_comp_analysis(tf_train_subset, n_comp, plotting)\n",
    "        comp_results[\"results\"] = batch_analysis\n",
    "        batch[i] = comp_results\n",
    "        \n",
    "        if plotting == True:\n",
    "            ax.plot(batch[i]['results'][n_comp-1]['explained_variance_ratio'])\n",
    "        \n",
    "        print(print_blank(len(message2)), end=\"\\r\")\n",
    "        print(\"Epoch {} completed in: {:.2f} seconds\".format(n, time.time()-t1))\n",
    "    \n",
    "    print(\"\\nTotal time to completion for {} epochs: {:.2f} seconds\".format(n_epoch, time.time()-t0))\n",
    "    \n",
    "    return batch"
   ]
  },
  {
   "cell_type": "code",
   "execution_count": 93,
   "metadata": {
    "scrolled": true
   },
   "outputs": [
    {
     "name": "stdout",
     "output_type": "stream",
     "text": [
      "None                                                                                                                                                                                       \n",
      "Total time to completion for 70 components: 315.89 seconds\n",
      "Epoch 1 completed in: 433.12 seconds\n",
      "None                                                                                                                                                                                       \n",
      "Total time to completion for 70 components: 109.92 seconds\n",
      "Epoch 2 completed in: 163.44 seconds\n",
      "None                                                                                                                                                                                       \n",
      "Total time to completion for 70 components: 143.72 seconds\n",
      "Epoch 3 completed in: 207.37 seconds\n",
      "None                                                                                                                                                                                       \n",
      "Total time to completion for 70 components: 191.29 seconds\n",
      "Epoch 4 completed in: 269.07 seconds\n",
      "\n",
      "Total time to completion for 4 epochs: 1073.07 seconds\n"
     ]
    },
    {
     "data": {
      "image/png": "[encoded data removed]",
      "text/plain": [
       "<matplotlib.figure.Figure at 0x1a1cbeac8>"
      ]
     },
     "metadata": {},
     "output_type": "display_data"
    }
   ],
   "source": [
    "tf_comp0 = svd_batch_analysis(4, 70, plotting=True)"
   ]
  },
  {
   "cell_type": "code",
   "execution_count": 94,
   "metadata": {},
   "outputs": [
    {
     "data": {
      "text/plain": [
       "(10, 60)"
      ]
     },
     "execution_count": 94,
     "metadata": {},
     "output_type": "execute_result"
    },
    {
     "data": {
      "image/png": "[encoded data removed]",
      "text/plain": [
       "<matplotlib.figure.Figure at 0x154419f28>"
      ]
     },
     "metadata": {},
     "output_type": "display_data"
    }
   ],
   "source": [
    "fig, ax = plt.subplots()\n",
    "for i in range(len(tf_comp0)):\n",
    "    ax.plot(tf_comp0[i]['results'][len(tf_comp0[i]['results'])-1]['explained_variance_ratio'])\n",
    "plt.ylim([0, 0.03])\n",
    "plt.xlim([10,60])"
   ]
  },
  {
   "cell_type": "markdown",
   "metadata": {},
   "source": [
    "##### Number of SVD Components\n",
    "\n",
    "From the figure, we can see that as we add components, we start to see a diminishing return on explained variance, and start to add significant computation time. We varied the batch size to be just around 8% of the total training set, and since it looks like the explained variance starts to stabilize somewhere between around 20 and 40 components, we might consider scaling that by about 10x for the full dataset. This would give us about 200 components, which isn't exactly a precise measurement, but it coincides with general guidance on using SVD from external [resources](http://www.kdnuggets.com/2016/08/approaching-almost-any-machine-learning-problem.html/2) and gives us an estimate to work with."
   ]
  },
  {
   "cell_type": "markdown",
   "metadata": {},
   "source": [
    "### Full data set"
   ]
  },
  {
   "cell_type": "code",
   "execution_count": 34,
   "metadata": {},
   "outputs": [
    {
     "name": "stdout",
     "output_type": "stream",
     "text": [
      "Shape: (3321, 2690998)                     s\n",
      "Non-zero mean: 4586\n",
      "Non-zero median: 3328\n",
      "\n",
      "Done in 2075.80 seconds\n"
     ]
    }
   ],
   "source": [
    "tfidf, tfidf_train, tfidf_test = tfidf_fn(corpus_train,\n",
    "                                corpus_test,\n",
    "                                ngrams=2, \n",
    "                                mn=1, \n",
    "                                mx=0.1, \n",
    "                                test_transform=True, \n",
    "                                plotting=False)"
   ]
  },
  {
   "cell_type": "code",
   "execution_count": 53,
   "metadata": {},
   "outputs": [
    {
     "data": {
      "text/plain": [
       "sklearn.feature_extraction.text.TfidfVectorizer"
      ]
     },
     "execution_count": 53,
     "metadata": {},
     "output_type": "execute_result"
    }
   ],
   "source": [
    "type(tfidf)"
   ]
  },
  {
   "cell_type": "markdown",
   "metadata": {},
   "source": [
    "Save tokenized vocabulary"
   ]
  },
  {
   "cell_type": "code",
   "execution_count": 31,
   "metadata": {
    "collapsed": true
   },
   "outputs": [],
   "source": [
    "def save_sparse_csr(filename,array):\n",
    "    np.savez(filename,data = array.data ,indices=array.indices,\n",
    "             indptr =array.indptr, shape=array.shape )"
   ]
  },
  {
   "cell_type": "code",
   "execution_count": 34,
   "metadata": {
    "collapsed": true
   },
   "outputs": [],
   "source": [
    "def load_sparse_csr(filename):\n",
    "    loader = np.load(filename + '.npz')\n",
    "    return sps.csr_matrix((  loader['data'], loader['indices'], loader['indptr']),\n",
    "                         shape = loader['shape'])"
   ]
  },
  {
   "cell_type": "code",
   "execution_count": 51,
   "metadata": {},
   "outputs": [
    {
     "name": "stdout",
     "output_type": "stream",
     "text": [
      "CPU times: user 406 ms, sys: 599 ms, total: 1.01 s\n",
      "Wall time: 1.23 s\n"
     ]
    }
   ],
   "source": [
    "save_sparse_csr(data_directory + '/data/train_bigram_vocabulary', tfidf_train)"
   ]
  },
  {
   "cell_type": "code",
   "execution_count": 52,
   "metadata": {
    "scrolled": true
   },
   "outputs": [
    {
     "name": "stdout",
     "output_type": "stream",
     "text": [
      "CPU times: user 587 ms, sys: 797 ms, total: 1.38 s\n",
      "Wall time: 1.63 s\n"
     ]
    }
   ],
   "source": [
    "save_sparse_csr(data_directory + '/data/test_bigram_vocabulary', tfidf_test)"
   ]
  },
  {
   "cell_type": "markdown",
   "metadata": {},
   "source": [
    "Load tfidf from previous session if applicable:"
   ]
  },
  {
   "cell_type": "code",
   "execution_count": 35,
   "metadata": {},
   "outputs": [
    {
     "name": "stdout",
     "output_type": "stream",
     "text": [
      "CPU times: user 911 ms, sys: 345 ms, total: 1.26 s\n",
      "Wall time: 1.31 s\n"
     ]
    }
   ],
   "source": [
    "%%time \n",
    "tfidf = TfidfVectorizer()\n",
    "tfidf_train = load_sparse_csr(data_directory + '/data/train_bigram_vocabulary')\n",
    "tfidf_test = load_sparse_csr(data_directory + '/data/test_bigram_vocabulary')"
   ]
  },
  {
   "cell_type": "markdown",
   "metadata": {},
   "source": [
    "In order to reduce the dimensionality of the transformed text, we can use truncated singular value decomposition (SVD), which is similar to PCA, but for sparse matrices. "
   ]
  },
  {
   "cell_type": "code",
   "execution_count": 36,
   "metadata": {
    "collapsed": true
   },
   "outputs": [],
   "source": [
    "# Choose index of number of features where we will truncate dimensionality\n",
    "features_n_svd = 200"
   ]
  },
  {
   "cell_type": "markdown",
   "metadata": {},
   "source": [
    "Load previously transformed data if applicable."
   ]
  },
  {
   "cell_type": "code",
   "execution_count": null,
   "metadata": {
    "collapsed": true
   },
   "outputs": [],
   "source": [
    "np.load(data_directory + '/data/train_svd_200')\n",
    "np.load(data_directory + '/data/test_svd_200')"
   ]
  },
  {
   "cell_type": "code",
   "execution_count": 37,
   "metadata": {
    "collapsed": true
   },
   "outputs": [],
   "source": [
    "%%time\n",
    "svd = TruncatedSVD(features_n_svd, algorithm='arpack')\n",
    "svd_train = svd.fit_transform(tfidf_train)\n",
    "svd_test = svd.transform(tfidf_test)"
   ]
  },
  {
   "cell_type": "code",
   "execution_count": 38,
   "metadata": {},
   "outputs": [
    {
     "data": {
      "text/plain": [
       "(3321, 200)"
      ]
     },
     "execution_count": 38,
     "metadata": {},
     "output_type": "execute_result"
    }
   ],
   "source": [
    "svd_train.shape"
   ]
  },
  {
   "cell_type": "code",
   "execution_count": 45,
   "metadata": {
    "collapsed": true
   },
   "outputs": [],
   "source": [
    "np.save(data_directory + '/data/train_svd_200', svd_train)\n",
    "np.save(data_directory + '/data/test_svd_200', svd_test)"
   ]
  },
  {
   "cell_type": "code",
   "execution_count": 39,
   "metadata": {},
   "outputs": [
    {
     "data": {
      "image/png": "[encoded data removed]",
      "text/plain": [
       "<matplotlib.figure.Figure at 0x1242465f8>"
      ]
     },
     "metadata": {},
     "output_type": "display_data"
    }
   ],
   "source": [
    "data2D_svd = svd_train\n",
    "plt.scatter(data2D_svd[:,0], data2D_svd[:,1], c=y_train)\n",
    "plt.show()  "
   ]
  },
  {
   "cell_type": "code",
   "execution_count": 40,
   "metadata": {},
   "outputs": [
    {
     "data": {
      "image/png": "[encoded data removed]",
      "text/plain": [
       "<matplotlib.figure.Figure at 0x274b24b38>"
      ]
     },
     "metadata": {},
     "output_type": "display_data"
    }
   ],
   "source": [
    "data2D_svd = svd_train\n",
    "plt.scatter(data2D_svd[:,0], data2D_svd[:,2], c=y_train)\n",
    "plt.show() "
   ]
  },
  {
   "cell_type": "code",
   "execution_count": 41,
   "metadata": {},
   "outputs": [
    {
     "data": {
      "image/png": "[encoded data removed]",
      "text/plain": [
       "<matplotlib.figure.Figure at 0x274c01eb8>"
      ]
     },
     "metadata": {},
     "output_type": "display_data"
    }
   ],
   "source": [
    "data2D_svd = svd_train\n",
    "plt.scatter(data2D_svd[:,0], data2D_svd[:,3], c=y_train)\n",
    "plt.show() "
   ]
  }
 ],
 "metadata": {
  "kernelspec": {
   "display_name": "Python [conda env:W207-final]",
   "language": "python",
   "name": "conda-env-W207-final-py"
  },
  "language_info": {
   "codemirror_mode": {
    "name": "ipython",
    "version": 3
   },
   "file_extension": ".py",
   "mimetype": "text/x-python",
   "name": "python",
   "nbconvert_exporter": "python",
   "pygments_lexer": "ipython3",
   "version": "3.5.3"
  }
 },
 "nbformat": 4,
 "nbformat_minor": 2
}
